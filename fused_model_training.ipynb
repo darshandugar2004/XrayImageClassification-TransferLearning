{
  "metadata": {
    "kernelspec": {
      "language": "python",
      "display_name": "Python 3",
      "name": "python3"
    },
    "language_info": {
      "name": "python",
      "version": "3.10.12",
      "mimetype": "text/x-python",
      "codemirror_mode": {
        "name": "ipython",
        "version": 3
      },
      "pygments_lexer": "ipython3",
      "nbconvert_exporter": "python",
      "file_extension": ".py"
    },
    "kaggle": {
      "accelerator": "none",
      "dataSources": [
        {
          "sourceId": 10984557,
          "sourceType": "datasetVersion",
          "datasetId": 6836514
        },
        {
          "sourceId": 281716,
          "sourceType": "modelInstanceVersion",
          "isSourceIdPinned": true,
          "modelInstanceId": 241375,
          "modelId": 263019
        }
      ],
      "dockerImageVersionId": 30919,
      "isInternetEnabled": true,
      "language": "python",
      "sourceType": "notebook",
      "isGpuEnabled": false
    },
    "colab": {
      "provenance": [],
      "include_colab_link": true
    }
  },
  "nbformat_minor": 0,
  "nbformat": 4,
  "cells": [
    {
      "cell_type": "markdown",
      "metadata": {
        "id": "view-in-github",
        "colab_type": "text"
      },
      "source": [
        "<a href=\"https://colab.research.google.com/github/darshandugar2004/XrayImageClassification-TransferLearning/blob/main/fused_model_training.ipynb\" target=\"_parent\"><img src=\"https://colab.research.google.com/assets/colab-badge.svg\" alt=\"Open In Colab\"/></a>"
      ]
    },
    {
      "cell_type": "code",
      "source": [
        "from keras import layers\n",
        "from keras.preprocessing import image\n",
        "from keras.models import Model\n",
        "from keras.layers import Dense, GlobalAveragePooling2D, concatenate, Flatten, MaxPooling2D\n",
        "from tensorflow.keras.preprocessing.image import ImageDataGenerator\n",
        "from tensorflow.keras.utils import to_categorical\n",
        "from keras.models import Sequential\n",
        "from tensorflow.keras.optimizers import Adam\n",
        "import numpy as np\n",
        "from keras.applications.resnet_v2 import ResNet50V2\n",
        "from keras.applications.inception_v3 import InceptionV3\n",
        "\n",
        "from keras.layers import Input, Dense, Activation, ZeroPadding2D, BatchNormalization, Flatten, Conv2D, Lambda,Concatenate"
      ],
      "metadata": {
        "trusted": true,
        "execution": {
          "iopub.status.busy": "2025-03-10T21:12:27.591519Z",
          "iopub.execute_input": "2025-03-10T21:12:27.591846Z",
          "iopub.status.idle": "2025-03-10T21:12:27.597880Z",
          "shell.execute_reply.started": "2025-03-10T21:12:27.591818Z",
          "shell.execute_reply": "2025-03-10T21:12:27.596594Z"
        },
        "id": "ethZLd9kQoZf"
      },
      "outputs": [],
      "execution_count": null
    },
    {
      "cell_type": "code",
      "source": [
        "batch_size = 32\n",
        "img_height, img_width = 224, 224\n",
        "input_shape = (img_height, img_width, 3)\n",
        "epochs = 100\n",
        "input_tensor = Input(shape=input_shape)\n",
        "\n",
        "# Load ResNet50V2\n",
        "base_model1 = ResNet50V2(input_shape=input_shape, weights='imagenet', include_top=False, input_tensor=input_tensor)\n",
        "for layer in base_model1.layers:\n",
        "    layer.trainable = False\n"
      ],
      "metadata": {
        "trusted": true,
        "execution": {
          "iopub.status.busy": "2025-03-10T21:12:27.599632Z",
          "iopub.execute_input": "2025-03-10T21:12:27.600044Z",
          "iopub.status.idle": "2025-03-10T21:12:28.612425Z",
          "shell.execute_reply.started": "2025-03-10T21:12:27.600003Z",
          "shell.execute_reply": "2025-03-10T21:12:28.611608Z"
        },
        "id": "Dh9GIYh8QoZf"
      },
      "outputs": [],
      "execution_count": null
    },
    {
      "cell_type": "code",
      "source": [
        "def downsample_to_7x7(layer):\n",
        "    \"\"\"Downsamples a layer to (7,7) if it has a larger size\"\"\"\n",
        "    shape = layer.shape[1:3]  # Get (height, width)\n",
        "    if shape == (14, 14):\n",
        "        return MaxPooling2D(pool_size=(2, 2))(layer)\n",
        "    elif shape == (28, 28):\n",
        "        return MaxPooling2D(pool_size=(4, 4))(layer)  # Downsample directly to (7,7)\n",
        "    return layer  # Keep (7,7) unchanged\n",
        "\n",
        "# Extracting layers and applying downsampling if needed\n",
        "a = downsample_to_7x7(base_model1.get_layer(\"conv3_block3_2_conv\").output)\n",
        "b = downsample_to_7x7(base_model1.get_layer(\"conv4_block6_3_conv\").output)\n",
        "c = downsample_to_7x7(base_model1.get_layer(\"conv3_block4_3_conv\").output)\n",
        "d = downsample_to_7x7(base_model1.get_layer(\"conv2_block3_3_conv\").output)\n",
        "e = downsample_to_7x7(base_model1.get_layer(\"conv3_block3_2_conv\").output)\n",
        "f = downsample_to_7x7(base_model1.get_layer(\"conv4_block6_3_conv\").output)\n",
        "g = downsample_to_7x7(base_model1.get_layer(\"conv3_block4_3_conv\").output)\n",
        "h = downsample_to_7x7(base_model1.get_layer(\"conv2_block3_3_conv\").output)\n",
        "i = downsample_to_7x7(base_model1.get_layer(\"conv3_block3_2_conv\").output)\n",
        "j = downsample_to_7x7(base_model1.get_layer(\"conv4_block6_3_conv\").output)\n",
        "k = downsample_to_7x7(base_model1.get_layer(\"conv3_block4_3_conv\").output)\n",
        "l = downsample_to_7x7(base_model1.get_layer(\"conv2_block3_3_conv\").output)\n",
        "m = downsample_to_7x7(base_model1.get_layer(\"conv3_block3_2_conv\").output)\n",
        "n = downsample_to_7x7(base_model1.get_layer(\"conv3_block3_2_conv\").output)\n",
        "\n",
        "feature_maps = concatenate([a, b, c, d, e, f, g], axis=-1)\n",
        "feature_maps = BatchNormalization()(feature_maps)\n",
        "feature_maps = Conv2D(2048, (1,1), activation='relu')(feature_maps)\n",
        "feature_maps = GlobalAveragePooling2D()(feature_maps)\n"
      ],
      "metadata": {
        "trusted": true,
        "execution": {
          "iopub.status.busy": "2025-03-10T21:12:28.614223Z",
          "iopub.execute_input": "2025-03-10T21:12:28.614467Z",
          "iopub.status.idle": "2025-03-10T21:12:28.661507Z",
          "shell.execute_reply.started": "2025-03-10T21:12:28.614445Z",
          "shell.execute_reply": "2025-03-10T21:12:28.660739Z"
        },
        "id": "SntPtYElQoZg"
      },
      "outputs": [],
      "execution_count": null
    },
    {
      "cell_type": "code",
      "source": [
        "base_model2 = InceptionV3(input_shape=input_shape, weights='imagenet', include_top=False, input_tensor=input_tensor)\n",
        "for layer in base_model2.layers:\n",
        "    layer.trainable = False"
      ],
      "metadata": {
        "trusted": true,
        "execution": {
          "iopub.status.busy": "2025-03-10T21:12:28.662753Z",
          "iopub.execute_input": "2025-03-10T21:12:28.663070Z",
          "iopub.status.idle": "2025-03-10T21:12:30.816790Z",
          "shell.execute_reply.started": "2025-03-10T21:12:28.663039Z",
          "shell.execute_reply": "2025-03-10T21:12:30.816113Z"
        },
        "id": "4rA8p1FAQoZg",
        "outputId": "7de7ff8e-92e9-4554-ec3f-53caac7fb89f"
      },
      "outputs": [
        {
          "name": "stdout",
          "text": "Downloading data from https://storage.googleapis.com/tensorflow/keras-applications/inception_v3/inception_v3_weights_tf_dim_ordering_tf_kernels_notop.h5\n\u001b[1m87910968/87910968\u001b[0m \u001b[32m━━━━━━━━━━━━━━━━━━━━\u001b[0m\u001b[37m\u001b[0m \u001b[1m0s\u001b[0m 0us/step\n",
          "output_type": "stream"
        }
      ],
      "execution_count": null
    },
    {
      "cell_type": "code",
      "source": [
        "from keras.layers import Dropout\n",
        "inception_output = base_model2.output\n",
        "inception_output = GlobalAveragePooling2D()(inception_output)\n",
        "\n",
        "# Merge ResNet50V2 and InceptionV3 outputs\n",
        "merged_output = concatenate([feature_maps, inception_output], axis=-1)\n",
        "merged_output = Dropout(0.3)(merged_output)\n",
        "merged_output = Dense(256, activation='relu')(merged_output)\n",
        "predictions = Dense(3, activation='softmax')(merged_output)\n",
        "\n",
        "model = Model(inputs=input_tensor, outputs=predictions)\n",
        "model.compile(loss='categorical_crossentropy', optimizer='adam', metrics=['acc'])"
      ],
      "metadata": {
        "trusted": true,
        "execution": {
          "iopub.status.busy": "2025-03-10T21:12:30.817593Z",
          "iopub.execute_input": "2025-03-10T21:12:30.817881Z",
          "iopub.status.idle": "2025-03-10T21:12:30.876290Z",
          "shell.execute_reply.started": "2025-03-10T21:12:30.817845Z",
          "shell.execute_reply": "2025-03-10T21:12:30.875668Z"
        },
        "id": "CC0qIulGQoZh"
      },
      "outputs": [],
      "execution_count": null
    },
    {
      "cell_type": "code",
      "source": [
        "# Data Generators\n",
        "train_data_dir = '/kaggle/input/cov-pneum/kaggle/working/Cov-Pneum-Split/train'\n",
        "val_data_dir = '/kaggle/input/cov-pneum/kaggle/working/Cov-Pneum-Split/validation'\n",
        "train_datagen = ImageDataGenerator(rescale=1./255, shear_range=0.1, zoom_range=0.1, horizontal_flip=True)\n",
        "val_datagen = ImageDataGenerator(rescale=1./255)\n",
        "\n",
        "train_generator = train_datagen.flow_from_directory(train_data_dir, target_size=(224, 224), batch_size=32, class_mode=\"categorical\")\n",
        "val_generator = val_datagen.flow_from_directory(val_data_dir, target_size=(224, 224), batch_size=32, class_mode=\"categorical\", shuffle=False)"
      ],
      "metadata": {
        "trusted": true,
        "execution": {
          "iopub.status.busy": "2025-03-10T21:12:30.877014Z",
          "iopub.execute_input": "2025-03-10T21:12:30.877316Z",
          "iopub.status.idle": "2025-03-10T21:12:40.891766Z",
          "shell.execute_reply.started": "2025-03-10T21:12:30.877295Z",
          "shell.execute_reply": "2025-03-10T21:12:40.891088Z"
        },
        "id": "sVfgc2sEQoZh",
        "outputId": "eb0c4489-dc45-490c-c449-428d51253349"
      },
      "outputs": [
        {
          "name": "stdout",
          "text": "Found 12162 images belonging to 3 classes.\nFound 3199 images belonging to 3 classes.\n",
          "output_type": "stream"
        }
      ],
      "execution_count": null
    },
    {
      "cell_type": "code",
      "source": [
        "from keras.callbacks import ModelCheckpoint\n",
        "from tensorflow import keras\n",
        "\n",
        "# Load the last saved model if training was interrupted\n",
        "try:\n",
        "    model = keras.models.load_model(\"/kaggle/working/model.keras\")\n",
        "    initial_epoch = 18  # Resume from epoch 10\n",
        "    print(\"Resuming training from epoch\", initial_epoch)\n",
        "except:\n",
        "    initial_epoch = 0  # Start from scratch if no model is found\n",
        "    print(\"Starting training from scratch\")\n",
        "\n",
        "# Define ModelCheckpoint to save the best model\n",
        "checkpoint = ModelCheckpoint(\"model.keras\", monitor='loss', verbose=1, save_best_only=True, mode='min')\n",
        "\n",
        "# Resume training\n",
        "model.fit(\n",
        "    train_generator,\n",
        "    epochs=100,\n",
        "    initial_epoch=initial_epoch,\n",
        "    validation_data=val_generator,\n",
        "    callbacks=[checkpoint]\n",
        ")\n",
        "\n",
        "# Save the final model\n",
        "model.save(\"model.keras\")\n"
      ],
      "metadata": {
        "trusted": true,
        "execution": {
          "iopub.status.busy": "2025-03-10T21:12:40.892514Z",
          "iopub.execute_input": "2025-03-10T21:12:40.892717Z",
          "iopub.status.idle": "2025-03-11T01:38:48.141404Z",
          "shell.execute_reply.started": "2025-03-10T21:12:40.892700Z",
          "shell.execute_reply": "2025-03-11T01:38:48.140310Z"
        },
        "id": "_AlHFnxtQoZh",
        "outputId": "8d78a895-e2bd-4e97-d874-d43c9d09f5e9"
      },
      "outputs": [
        {
          "name": "stdout",
          "text": "Starting training from scratch\nEpoch 1/100\n",
          "output_type": "stream"
        },
        {
          "name": "stderr",
          "text": "/usr/local/lib/python3.10/dist-packages/keras/src/trainers/data_adapters/py_dataset_adapter.py:122: UserWarning: Your `PyDataset` class should call `super().__init__(**kwargs)` in its constructor. `**kwargs` can include `workers`, `use_multiprocessing`, `max_queue_size`. Do not pass these arguments to `fit()`, as they will be ignored.\n  self._warn_if_super_not_called()\n",
          "output_type": "stream"
        },
        {
          "name": "stdout",
          "text": "\u001b[1m381/381\u001b[0m \u001b[32m━━━━━━━━━━━━━━━━━━━━\u001b[0m\u001b[37m\u001b[0m \u001b[1m0s\u001b[0m 477ms/step - acc: 0.8368 - loss: 0.6016\nEpoch 1: loss improved from inf to 0.32888, saving model to model.keras\n\u001b[1m381/381\u001b[0m \u001b[32m━━━━━━━━━━━━━━━━━━━━\u001b[0m\u001b[37m\u001b[0m \u001b[1m253s\u001b[0m 579ms/step - acc: 0.8370 - loss: 0.6009 - val_acc: 0.9059 - val_loss: 0.2422\nEpoch 2/100\n\u001b[1m381/381\u001b[0m \u001b[32m━━━━━━━━━━━━━━━━━━━━\u001b[0m\u001b[37m\u001b[0m \u001b[1m0s\u001b[0m 368ms/step - acc: 0.9228 - loss: 0.2119\nEpoch 2: loss improved from 0.32888 to 0.19058, saving model to model.keras\n\u001b[1m381/381\u001b[0m \u001b[32m━━━━━━━━━━━━━━━━━━━━\u001b[0m\u001b[37m\u001b[0m \u001b[1m158s\u001b[0m 408ms/step - acc: 0.9229 - loss: 0.2119 - val_acc: 0.9437 - val_loss: 0.1522\nEpoch 3/100\n\u001b[1m381/381\u001b[0m \u001b[32m━━━━━━━━━━━━━━━━━━━━\u001b[0m\u001b[37m\u001b[0m \u001b[1m0s\u001b[0m 376ms/step - acc: 0.9379 - loss: 0.1613\nEpoch 3: loss improved from 0.19058 to 0.16642, saving model to model.keras\n\u001b[1m381/381\u001b[0m \u001b[32m━━━━━━━━━━━━━━━━━━━━\u001b[0m\u001b[37m\u001b[0m \u001b[1m161s\u001b[0m 416ms/step - acc: 0.9379 - loss: 0.1614 - val_acc: 0.9450 - val_loss: 0.1454\nEpoch 4/100\n\u001b[1m381/381\u001b[0m \u001b[32m━━━━━━━━━━━━━━━━━━━━\u001b[0m\u001b[37m\u001b[0m \u001b[1m0s\u001b[0m 371ms/step - acc: 0.9452 - loss: 0.1485\nEpoch 4: loss improved from 0.16642 to 0.13710, saving model to model.keras\n\u001b[1m381/381\u001b[0m \u001b[32m━━━━━━━━━━━━━━━━━━━━\u001b[0m\u001b[37m\u001b[0m \u001b[1m160s\u001b[0m 411ms/step - acc: 0.9452 - loss: 0.1485 - val_acc: 0.9625 - val_loss: 0.1044\nEpoch 5/100\n\u001b[1m381/381\u001b[0m \u001b[32m━━━━━━━━━━━━━━━━━━━━\u001b[0m\u001b[37m\u001b[0m \u001b[1m0s\u001b[0m 375ms/step - acc: 0.9447 - loss: 0.1479\nEpoch 5: loss did not improve from 0.13710\n\u001b[1m381/381\u001b[0m \u001b[32m━━━━━━━━━━━━━━━━━━━━\u001b[0m\u001b[37m\u001b[0m \u001b[1m159s\u001b[0m 411ms/step - acc: 0.9447 - loss: 0.1479 - val_acc: 0.9562 - val_loss: 0.1257\nEpoch 6/100\n\u001b[1m381/381\u001b[0m \u001b[32m━━━━━━━━━━━━━━━━━━━━\u001b[0m\u001b[37m\u001b[0m \u001b[1m0s\u001b[0m 386ms/step - acc: 0.9560 - loss: 0.1197\nEpoch 6: loss improved from 0.13710 to 0.11922, saving model to model.keras\n\u001b[1m381/381\u001b[0m \u001b[32m━━━━━━━━━━━━━━━━━━━━\u001b[0m\u001b[37m\u001b[0m \u001b[1m165s\u001b[0m 426ms/step - acc: 0.9560 - loss: 0.1197 - val_acc: 0.9631 - val_loss: 0.1022\nEpoch 7/100\n\u001b[1m381/381\u001b[0m \u001b[32m━━━━━━━━━━━━━━━━━━━━\u001b[0m\u001b[37m\u001b[0m \u001b[1m0s\u001b[0m 371ms/step - acc: 0.9614 - loss: 0.1061\nEpoch 7: loss improved from 0.11922 to 0.11250, saving model to model.keras\n\u001b[1m381/381\u001b[0m \u001b[32m━━━━━━━━━━━━━━━━━━━━\u001b[0m\u001b[37m\u001b[0m \u001b[1m159s\u001b[0m 411ms/step - acc: 0.9614 - loss: 0.1062 - val_acc: 0.9662 - val_loss: 0.1067\nEpoch 8/100\n\u001b[1m381/381\u001b[0m \u001b[32m━━━━━━━━━━━━━━━━━━━━\u001b[0m\u001b[37m\u001b[0m \u001b[1m0s\u001b[0m 367ms/step - acc: 0.9581 - loss: 0.1072\nEpoch 8: loss improved from 0.11250 to 0.10671, saving model to model.keras\n\u001b[1m381/381\u001b[0m \u001b[32m━━━━━━━━━━━━━━━━━━━━\u001b[0m\u001b[37m\u001b[0m \u001b[1m158s\u001b[0m 407ms/step - acc: 0.9581 - loss: 0.1072 - val_acc: 0.9565 - val_loss: 0.1221\nEpoch 9/100\n\u001b[1m381/381\u001b[0m \u001b[32m━━━━━━━━━━━━━━━━━━━━\u001b[0m\u001b[37m\u001b[0m \u001b[1m0s\u001b[0m 373ms/step - acc: 0.9656 - loss: 0.0987\nEpoch 9: loss improved from 0.10671 to 0.09677, saving model to model.keras\n\u001b[1m381/381\u001b[0m \u001b[32m━━━━━━━━━━━━━━━━━━━━\u001b[0m\u001b[37m\u001b[0m \u001b[1m160s\u001b[0m 413ms/step - acc: 0.9656 - loss: 0.0987 - val_acc: 0.9628 - val_loss: 0.1088\nEpoch 10/100\n\u001b[1m381/381\u001b[0m \u001b[32m━━━━━━━━━━━━━━━━━━━━\u001b[0m\u001b[37m\u001b[0m \u001b[1m0s\u001b[0m 377ms/step - acc: 0.9671 - loss: 0.0900\nEpoch 10: loss improved from 0.09677 to 0.08996, saving model to model.keras\n\u001b[1m381/381\u001b[0m \u001b[32m━━━━━━━━━━━━━━━━━━━━\u001b[0m\u001b[37m\u001b[0m \u001b[1m162s\u001b[0m 417ms/step - acc: 0.9671 - loss: 0.0900 - val_acc: 0.9709 - val_loss: 0.0888\nEpoch 11/100\n\u001b[1m381/381\u001b[0m \u001b[32m━━━━━━━━━━━━━━━━━━━━\u001b[0m\u001b[37m\u001b[0m \u001b[1m0s\u001b[0m 378ms/step - acc: 0.9685 - loss: 0.0871\nEpoch 11: loss improved from 0.08996 to 0.08830, saving model to model.keras\n\u001b[1m381/381\u001b[0m \u001b[32m━━━━━━━━━━━━━━━━━━━━\u001b[0m\u001b[37m\u001b[0m \u001b[1m162s\u001b[0m 418ms/step - acc: 0.9685 - loss: 0.0871 - val_acc: 0.9703 - val_loss: 0.0779\nEpoch 12/100\n\u001b[1m381/381\u001b[0m \u001b[32m━━━━━━━━━━━━━━━━━━━━\u001b[0m\u001b[37m\u001b[0m \u001b[1m0s\u001b[0m 371ms/step - acc: 0.9688 - loss: 0.0832\nEpoch 12: loss improved from 0.08830 to 0.08549, saving model to model.keras\n\u001b[1m381/381\u001b[0m \u001b[32m━━━━━━━━━━━━━━━━━━━━\u001b[0m\u001b[37m\u001b[0m \u001b[1m160s\u001b[0m 412ms/step - acc: 0.9688 - loss: 0.0832 - val_acc: 0.9684 - val_loss: 0.0866\nEpoch 13/100\n\u001b[1m381/381\u001b[0m \u001b[32m━━━━━━━━━━━━━━━━━━━━\u001b[0m\u001b[37m\u001b[0m \u001b[1m0s\u001b[0m 374ms/step - acc: 0.9709 - loss: 0.0752\nEpoch 13: loss improved from 0.08549 to 0.07868, saving model to model.keras\n\u001b[1m381/381\u001b[0m \u001b[32m━━━━━━━━━━━━━━━━━━━━\u001b[0m\u001b[37m\u001b[0m \u001b[1m161s\u001b[0m 414ms/step - acc: 0.9709 - loss: 0.0752 - val_acc: 0.9631 - val_loss: 0.0978\nEpoch 14/100\n\u001b[1m381/381\u001b[0m \u001b[32m━━━━━━━━━━━━━━━━━━━━\u001b[0m\u001b[37m\u001b[0m \u001b[1m0s\u001b[0m 370ms/step - acc: 0.9705 - loss: 0.0761\nEpoch 14: loss improved from 0.07868 to 0.07574, saving model to model.keras\n\u001b[1m381/381\u001b[0m \u001b[32m━━━━━━━━━━━━━━━━━━━━\u001b[0m\u001b[37m\u001b[0m \u001b[1m159s\u001b[0m 409ms/step - acc: 0.9705 - loss: 0.0761 - val_acc: 0.9675 - val_loss: 0.0885\nEpoch 15/100\n\u001b[1m381/381\u001b[0m \u001b[32m━━━━━━━━━━━━━━━━━━━━\u001b[0m\u001b[37m\u001b[0m \u001b[1m0s\u001b[0m 376ms/step - acc: 0.9761 - loss: 0.0681\nEpoch 15: loss improved from 0.07574 to 0.07096, saving model to model.keras\n\u001b[1m381/381\u001b[0m \u001b[32m━━━━━━━━━━━━━━━━━━━━\u001b[0m\u001b[37m\u001b[0m \u001b[1m161s\u001b[0m 416ms/step - acc: 0.9761 - loss: 0.0681 - val_acc: 0.9775 - val_loss: 0.0638\nEpoch 16/100\n\u001b[1m381/381\u001b[0m \u001b[32m━━━━━━━━━━━━━━━━━━━━\u001b[0m\u001b[37m\u001b[0m \u001b[1m0s\u001b[0m 368ms/step - acc: 0.9756 - loss: 0.0665\nEpoch 16: loss improved from 0.07096 to 0.06769, saving model to model.keras\n\u001b[1m381/381\u001b[0m \u001b[32m━━━━━━━━━━━━━━━━━━━━\u001b[0m\u001b[37m\u001b[0m \u001b[1m158s\u001b[0m 408ms/step - acc: 0.9756 - loss: 0.0665 - val_acc: 0.9759 - val_loss: 0.0672\nEpoch 17/100\n\u001b[1m381/381\u001b[0m \u001b[32m━━━━━━━━━━━━━━━━━━━━\u001b[0m\u001b[37m\u001b[0m \u001b[1m0s\u001b[0m 366ms/step - acc: 0.9758 - loss: 0.0629\nEpoch 17: loss improved from 0.06769 to 0.06435, saving model to model.keras\n\u001b[1m381/381\u001b[0m \u001b[32m━━━━━━━━━━━━━━━━━━━━\u001b[0m\u001b[37m\u001b[0m \u001b[1m157s\u001b[0m 406ms/step - acc: 0.9758 - loss: 0.0629 - val_acc: 0.9737 - val_loss: 0.0746\nEpoch 18/100\n\u001b[1m381/381\u001b[0m \u001b[32m━━━━━━━━━━━━━━━━━━━━\u001b[0m\u001b[37m\u001b[0m \u001b[1m0s\u001b[0m 356ms/step - acc: 0.9797 - loss: 0.0583\nEpoch 18: loss improved from 0.06435 to 0.06049, saving model to model.keras\n\u001b[1m381/381\u001b[0m \u001b[32m━━━━━━━━━━━━━━━━━━━━\u001b[0m\u001b[37m\u001b[0m \u001b[1m153s\u001b[0m 395ms/step - acc: 0.9797 - loss: 0.0584 - val_acc: 0.9778 - val_loss: 0.0659\nEpoch 19/100\n\u001b[1m  8/381\u001b[0m \u001b[37m━━━━━━━━━━━━━━━━━━━━\u001b[0m \u001b[1m2:09\u001b[0m 348ms/step - acc: 0.9955 - loss: 0.0293\nEpoch 21: loss did not improve from 0.05103\n\u001b[1m381/381\u001b[0m \u001b[32m━━━━━━━━━━━━━━━━━━━━\u001b[0m\u001b[37m\u001b[0m \u001b[1m157s\u001b[0m 404ms/step - acc: 0.9825 - loss: 0.0479 - val_acc: 0.9753 - val_loss: 0.0829\nEpoch 22/100\n\u001b[1m381/381\u001b[0m \u001b[32m━━━━━━━━━━━━━━━━━━━━\u001b[0m\u001b[37m\u001b[0m \u001b[1m0s\u001b[0m 371ms/step - acc: 0.9798 - loss: 0.0536\nEpoch 22: loss did not improve from 0.05103\n\u001b[1m381/381\u001b[0m \u001b[32m━━━━━━━━━━━━━━━━━━━━\u001b[0m\u001b[37m\u001b[0m \u001b[1m157s\u001b[0m 406ms/step - acc: 0.9798 - loss: 0.0536 - val_acc: 0.9672 - val_loss: 0.0983\nEpoch 23/100\n\u001b[1m381/381\u001b[0m \u001b[32m━━━━━━━━━━━━━━━━━━━━\u001b[0m\u001b[37m\u001b[0m \u001b[1m0s\u001b[0m 376ms/step - acc: 0.9824 - loss: 0.0500\nEpoch 23: loss improved from 0.05103 to 0.04665, saving model to model.keras\n\u001b[1m381/381\u001b[0m \u001b[32m━━━━━━━━━━━━━━━━━━━━\u001b[0m\u001b[37m\u001b[0m \u001b[1m161s\u001b[0m 416ms/step - acc: 0.9824 - loss: 0.0500 - val_acc: 0.9747 - val_loss: 0.0655\nEpoch 24/100\n\u001b[1m381/381\u001b[0m \u001b[32m━━━━━━━━━━━━━━━━━━━━\u001b[0m\u001b[37m\u001b[0m \u001b[1m0s\u001b[0m 368ms/step - acc: 0.9853 - loss: 0.0407\nEpoch 24: loss improved from 0.04665 to 0.04538, saving model to model.keras\n\u001b[1m381/381\u001b[0m \u001b[32m━━━━━━━━━━━━━━━━━━━━\u001b[0m\u001b[37m\u001b[0m \u001b[1m158s\u001b[0m 407ms/step - acc: 0.9853 - loss: 0.0407 - val_acc: 0.9756 - val_loss: 0.0616\nEpoch 25/100\n\u001b[1m381/381\u001b[0m \u001b[32m━━━━━━━━━━━━━━━━━━━━\u001b[0m\u001b[37m\u001b[0m \u001b[1m0s\u001b[0m 368ms/step - acc: 0.9812 - loss: 0.0529\nEpoch 25: loss did not improve from 0.04538\n\u001b[1m381/381\u001b[0m \u001b[32m━━━━━━━━━━━━━━━━━━━━\u001b[0m\u001b[37m\u001b[0m \u001b[1m156s\u001b[0m 404ms/step - acc: 0.9812 - loss: 0.0528 - val_acc: 0.9800 - val_loss: 0.0637\nEpoch 26/100\n\u001b[1m381/381\u001b[0m \u001b[32m━━━━━━━━━━━━━━━━━━━━\u001b[0m\u001b[37m\u001b[0m \u001b[1m0s\u001b[0m 369ms/step - acc: 0.9867 - loss: 0.0382\nEpoch 26: loss improved from 0.04538 to 0.04277, saving model to model.keras\n\u001b[1m381/381\u001b[0m \u001b[32m━━━━━━━━━━━━━━━━━━━━\u001b[0m\u001b[37m\u001b[0m \u001b[1m158s\u001b[0m 408ms/step - acc: 0.9867 - loss: 0.0383 - val_acc: 0.9784 - val_loss: 0.0661\nEpoch 27/100\n\u001b[1m381/381\u001b[0m \u001b[32m━━━━━━━━━━━━━━━━━━━━\u001b[0m\u001b[37m\u001b[0m \u001b[1m0s\u001b[0m 373ms/step - acc: 0.9838 - loss: 0.0443\nEpoch 27: loss did not improve from 0.04277\n\u001b[1m381/381\u001b[0m \u001b[32m━━━━━━━━━━━━━━━━━━━━\u001b[0m\u001b[37m\u001b[0m \u001b[1m158s\u001b[0m 408ms/step - acc: 0.9838 - loss: 0.0443 - val_acc: 0.9797 - val_loss: 0.0593\nEpoch 28/100\n\u001b[1m381/381\u001b[0m \u001b[32m━━━━━━━━━━━━━━━━━━━━\u001b[0m\u001b[37m\u001b[0m \u001b[1m0s\u001b[0m 374ms/step - acc: 0.9878 - loss: 0.0322\nEpoch 28: loss improved from 0.04277 to 0.03797, saving model to model.keras\n\u001b[1m381/381\u001b[0m \u001b[32m━━━━━━━━━━━━━━━━━━━━\u001b[0m\u001b[37m\u001b[0m \u001b[1m161s\u001b[0m 414ms/step - acc: 0.9878 - loss: 0.0322 - val_acc: 0.9831 - val_loss: 0.0493\nEpoch 29/100\n\u001b[1m381/381\u001b[0m \u001b[32m━━━━━━━━━━━━━━━━━━━━\u001b[0m\u001b[37m\u001b[0m \u001b[1m0s\u001b[0m 371ms/step - acc: 0.9858 - loss: 0.0391\nEpoch 29: loss did not improve from 0.03797\n\u001b[1m381/381\u001b[0m \u001b[32m━━━━━━━━━━━━━━━━━━━━\u001b[0m\u001b[37m\u001b[0m \u001b[1m157s\u001b[0m 406ms/step - acc: 0.9858 - loss: 0.0391 - val_acc: 0.9828 - val_loss: 0.0520\nEpoch 30/100\n\u001b[1m381/381\u001b[0m \u001b[32m━━━━━━━━━━━━━━━━━━━━\u001b[0m\u001b[37m\u001b[0m \u001b[1m0s\u001b[0m 363ms/step - acc: 0.9872 - loss: 0.0358\nEpoch 30: loss improved from 0.03797 to 0.03659, saving model to model.keras\n\u001b[1m381/381\u001b[0m \u001b[32m━━━━━━━━━━━━━━━━━━━━\u001b[0m\u001b[37m\u001b[0m \u001b[1m156s\u001b[0m 403ms/step - acc: 0.9872 - loss: 0.0358 - val_acc: 0.9819 - val_loss: 0.0651\nEpoch 31/100\n\u001b[1m381/381\u001b[0m \u001b[32m━━━━━━━━━━━━━━━━━━━━\u001b[0m\u001b[37m\u001b[0m \u001b[1m0s\u001b[0m 373ms/step - acc: 0.9866 - loss: 0.0348\nEpoch 31: loss did not improve from 0.03659\n\u001b[1m381/381\u001b[0m \u001b[32m━━━━━━━━━━━━━━━━━━━━\u001b[0m\u001b[37m\u001b[0m \u001b[1m158s\u001b[0m 408ms/step - acc: 0.9866 - loss: 0.0348 - val_acc: 0.9759 - val_loss: 0.0735\nEpoch 32/100\n\u001b[1m381/381\u001b[0m \u001b[32m━━━━━━━━━━━━━━━━━━━━\u001b[0m\u001b[37m\u001b[0m \u001b[1m0s\u001b[0m 372ms/step - acc: 0.9889 - loss: 0.0346\nEpoch 32: loss improved from 0.03659 to 0.03437, saving model to model.keras\n\u001b[1m381/381\u001b[0m \u001b[32m━━━━━━━━━━━━━━━━━━━━\u001b[0m\u001b[37m\u001b[0m \u001b[1m160s\u001b[0m 411ms/step - acc: 0.9889 - loss: 0.0346 - val_acc: 0.9716 - val_loss: 0.0889\nEpoch 33/100\n\u001b[1m381/381\u001b[0m \u001b[32m━━━━━━━━━━━━━━━━━━━━\u001b[0m\u001b[37m\u001b[0m \u001b[1m0s\u001b[0m 365ms/step - acc: 0.9875 - loss: 0.0350\nEpoch 33: loss improved from 0.03437 to 0.03194, saving model to model.keras\n\u001b[1m381/381\u001b[0m \u001b[32m━━━━━━━━━━━━━━━━━━━━\u001b[0m\u001b[37m\u001b[0m \u001b[1m157s\u001b[0m 404ms/step - acc: 0.9875 - loss: 0.0350 - val_acc: 0.9784 - val_loss: 0.0659\nEpoch 34/100\n\u001b[1m381/381\u001b[0m \u001b[32m━━━━━━━━━━━━━━━━━━━━\u001b[0m\u001b[37m\u001b[0m \u001b[1m0s\u001b[0m 367ms/step - acc: 0.9868 - loss: 0.0361\nEpoch 34: loss did not improve from 0.03194\n\u001b[1m381/381\u001b[0m \u001b[32m━━━━━━━━━━━━━━━━━━━━\u001b[0m\u001b[37m\u001b[0m \u001b[1m201s\u001b[0m 402ms/step - acc: 0.9868 - loss: 0.0361 - val_acc: 0.9787 - val_loss: 0.0677\nEpoch 35/100\n\u001b[1m381/381\u001b[0m \u001b[32m━━━━━━━━━━━━━━━━━━━━\u001b[0m\u001b[37m\u001b[0m \u001b[1m0s\u001b[0m 370ms/step - acc: 0.9871 - loss: 0.0393\nEpoch 35: loss did not improve from 0.03194\n\u001b[1m381/381\u001b[0m \u001b[32m━━━━━━━━━━━━━━━━━━━━\u001b[0m\u001b[37m\u001b[0m \u001b[1m157s\u001b[0m 405ms/step - acc: 0.9871 - loss: 0.0393 - val_acc: 0.9837 - val_loss: 0.0568\nEpoch 36/100\n\u001b[1m381/381\u001b[0m \u001b[32m━━━━━━━━━━━━━━━━━━━━\u001b[0m\u001b[37m\u001b[0m \u001b[1m0s\u001b[0m 370ms/step - acc: 0.9878 - loss: 0.0301\nEpoch 36: loss did not improve from 0.03194\n\u001b[1m381/381\u001b[0m \u001b[32m━━━━━━━━━━━━━━━━━━━━\u001b[0m\u001b[37m\u001b[0m \u001b[1m157s\u001b[0m 405ms/step - acc: 0.9878 - loss: 0.0301 - val_acc: 0.9741 - val_loss: 0.0732\nEpoch 37/100\n\u001b[1m381/381\u001b[0m \u001b[32m━━━━━━━━━━━━━━━━━━━━\u001b[0m\u001b[37m\u001b[0m \u001b[1m0s\u001b[0m 373ms/step - acc: 0.9870 - loss: 0.0330\nEpoch 37: loss did not improve from 0.03194\n\u001b[1m381/381\u001b[0m \u001b[32m━━━━━━━━━━━━━━━━━━━━\u001b[0m\u001b[37m\u001b[0m \u001b[1m158s\u001b[0m 408ms/step - acc: 0.9870 - loss: 0.0330 - val_acc: 0.9712 - val_loss: 0.1152\nEpoch 38/100\n\u001b[1m381/381\u001b[0m \u001b[32m━━━━━━━━━━━━━━━━━━━━\u001b[0m\u001b[37m\u001b[0m \u001b[1m0s\u001b[0m 369ms/step - acc: 0.9888 - loss: 0.0273\nEpoch 38: loss did not improve from 0.03194\n\u001b[1m381/381\u001b[0m \u001b[32m━━━━━━━━━━━━━━━━━━━━\u001b[0m\u001b[37m\u001b[0m \u001b[1m157s\u001b[0m 405ms/step - acc: 0.9888 - loss: 0.0274 - val_acc: 0.9794 - val_loss: 0.0740\nEpoch 39/100\n\u001b[1m381/381\u001b[0m \u001b[32m━━━━━━━━━━━━━━━━━━━━\u001b[0m\u001b[37m\u001b[0m \u001b[1m0s\u001b[0m 366ms/step - acc: 0.9880 - loss: 0.0297\nEpoch 39: loss improved from 0.03194 to 0.02926, saving model to model.keras\n\u001b[1m381/381\u001b[0m \u001b[32m━━━━━━━━━━━━━━━━━━━━\u001b[0m\u001b[37m\u001b[0m \u001b[1m157s\u001b[0m 406ms/step - acc: 0.9880 - loss: 0.0297 - val_acc: 0.9803 - val_loss: 0.0686\nEpoch 40/100\n\u001b[1m381/381\u001b[0m \u001b[32m━━━━━━━━━━━━━━━━━━━━\u001b[0m\u001b[37m\u001b[0m \u001b[1m0s\u001b[0m 354ms/step - acc: 0.9885 - loss: 0.0336\nEpoch 40: loss did not improve from 0.02926\n\u001b[1m381/381\u001b[0m \u001b[32m━━━━━━━━━━━━━━━━━━━━\u001b[0m\u001b[37m\u001b[0m \u001b[1m151s\u001b[0m 390ms/step - acc: 0.9885 - loss: 0.0336 - val_acc: 0.9822 - val_loss: 0.0656\nEpoch 41/100\n\u001b[1m381/381\u001b[0m \u001b[32m━━━━━━━━━━━━━━━━━━━━\u001b[0m\u001b[37m\u001b[0m \u001b[1m0s\u001b[0m 362ms/step - acc: 0.9893 - loss: 0.0249\nEpoch 41: loss improved from 0.02926 to 0.02679, saving model to model.keras\n\u001b[1m381/381\u001b[0m \u001b[32m━━━━━━━━━━━━━━━━━━━━\u001b[0m\u001b[37m\u001b[0m \u001b[1m156s\u001b[0m 402ms/step - acc: 0.9893 - loss: 0.0249 - val_acc: 0.9850 - val_loss: 0.0546\nEpoch 42/100\n\u001b[1m381/381\u001b[0m \u001b[32m━━━━━━━━━━━━━━━━━━━━\u001b[0m\u001b[37m\u001b[0m \u001b[1m0s\u001b[0m 376ms/step - acc: 0.9920 - loss: 0.0267\nEpoch 42: loss improved from 0.02679 to 0.02608, saving model to model.keras\n\u001b[1m381/381\u001b[0m \u001b[32m━━━━━━━━━━━━━━━━━━━━\u001b[0m\u001b[37m\u001b[0m \u001b[1m161s\u001b[0m 416ms/step - acc: 0.9920 - loss: 0.0267 - val_acc: 0.9797 - val_loss: 0.0681\nEpoch 43/100\n\u001b[1m381/381\u001b[0m \u001b[32m━━━━━━━━━━━━━━━━━━━━\u001b[0m\u001b[37m\u001b[0m \u001b[1m0s\u001b[0m 369ms/step - acc: 0.9906 - loss: 0.0274\nEpoch 43: loss did not improve from 0.02608\n\u001b[1m381/381\u001b[0m \u001b[32m━━━━━━━━━━━━━━━━━━━━\u001b[0m\u001b[37m\u001b[0m \u001b[1m157s\u001b[0m 404ms/step - acc: 0.9906 - loss: 0.0274 - val_acc: 0.9728 - val_loss: 0.0744\nEpoch 44/100\n\u001b[1m381/381\u001b[0m \u001b[32m━━━━━━━━━━━━━━━━━━━━\u001b[0m\u001b[37m\u001b[0m \u001b[1m0s\u001b[0m 366ms/step - acc: 0.9916 - loss: 0.0218\nEpoch 44: loss improved from 0.02608 to 0.02482, saving model to model.keras\n\u001b[1m381/381\u001b[0m \u001b[32m━━━━━━━━━━━━━━━━━━━━\u001b[0m\u001b[37m\u001b[0m \u001b[1m157s\u001b[0m 406ms/step - acc: 0.9916 - loss: 0.0218 - val_acc: 0.9562 - val_loss: 0.1926\nEpoch 45/100\n\u001b[1m381/381\u001b[0m \u001b[32m━━━━━━━━━━━━━━━━━━━━\u001b[0m\u001b[37m\u001b[0m \u001b[1m0s\u001b[0m 369ms/step - acc: 0.9913 - loss: 0.0203\nEpoch 45: loss improved from 0.02482 to 0.02227, saving model to model.keras\n\u001b[1m381/381\u001b[0m \u001b[32m━━━━━━━━━━━━━━━━━━━━\u001b[0m\u001b[37m\u001b[0m \u001b[1m158s\u001b[0m 409ms/step - acc: 0.9913 - loss: 0.0203 - val_acc: 0.9841 - val_loss: 0.0527\nEpoch 46/100\n\u001b[1m381/381\u001b[0m \u001b[32m━━━━━━━━━━━━━━━━━━━━\u001b[0m\u001b[37m\u001b[0m \u001b[1m0s\u001b[0m 370ms/step - acc: 0.9911 - loss: 0.0234\nEpoch 46: loss did not improve from 0.02227\n\u001b[1m381/381\u001b[0m \u001b[32m━━━━━━━━━━━━━━━━━━━━\u001b[0m\u001b[37m\u001b[0m \u001b[1m157s\u001b[0m 406ms/step - acc: 0.9911 - loss: 0.0234 - val_acc: 0.9809 - val_loss: 0.0577\nEpoch 47/100\n\u001b[1m381/381\u001b[0m \u001b[32m━━━━━━━━━━━━━━━━━━━━\u001b[0m\u001b[37m\u001b[0m \u001b[1m0s\u001b[0m 375ms/step - acc: 0.9920 - loss: 0.0228\nEpoch 47: loss did not improve from 0.02227\n\u001b[1m381/381\u001b[0m \u001b[32m━━━━━━━━━━━━━━━━━━━━\u001b[0m\u001b[37m\u001b[0m \u001b[1m159s\u001b[0m 411ms/step - acc: 0.9920 - loss: 0.0228 - val_acc: 0.9766 - val_loss: 0.0801\nEpoch 48/100\n\u001b[1m381/381\u001b[0m \u001b[32m━━━━━━━━━━━━━━━━━━━━\u001b[0m\u001b[37m\u001b[0m \u001b[1m0s\u001b[0m 371ms/step - acc: 0.9927 - loss: 0.0222\nEpoch 48: loss did not improve from 0.02227\n\u001b[1m381/381\u001b[0m \u001b[32m━━━━━━━━━━━━━━━━━━━━\u001b[0m\u001b[37m\u001b[0m \u001b[1m158s\u001b[0m 406ms/step - acc: 0.9927 - loss: 0.0223 - val_acc: 0.9866 - val_loss: 0.0476\nEpoch 49/100\n\u001b[1m381/381\u001b[0m \u001b[32m━━━━━━━━━━━━━━━━━━━━\u001b[0m\u001b[37m\u001b[0m \u001b[1m0s\u001b[0m 358ms/step - acc: 0.9930 - loss: 0.0215\nEpoch 49: loss improved from 0.02227 to 0.02214, saving model to model.keras\n\u001b[1m381/381\u001b[0m \u001b[32m━━━━━━━━━━━━━━━━━━━━\u001b[0m\u001b[37m\u001b[0m \u001b[1m154s\u001b[0m 398ms/step - acc: 0.9930 - loss: 0.0215 - val_acc: 0.9837 - val_loss: 0.0571\nEpoch 50/100\n\u001b[1m381/381\u001b[0m \u001b[32m━━━━━━━━━━━━━━━━━━━━\u001b[0m\u001b[37m\u001b[0m \u001b[1m0s\u001b[0m 365ms/step - acc: 0.9901 - loss: 0.0269\nEpoch 50: loss did not improve from 0.02214\n\u001b[1m381/381\u001b[0m \u001b[32m━━━━━━━━━━━━━━━━━━━━\u001b[0m\u001b[37m\u001b[0m \u001b[1m155s\u001b[0m 401ms/step - acc: 0.9901 - loss: 0.0269 - val_acc: 0.9859 - val_loss: 0.0440\nEpoch 51/100\n\u001b[1m381/381\u001b[0m \u001b[32m━━━━━━━━━━━━━━━━━━━━\u001b[0m\u001b[37m\u001b[0m \u001b[1m0s\u001b[0m 371ms/step - acc: 0.9955 - loss: 0.0141\nEpoch 51: loss improved from 0.02214 to 0.01543, saving model to model.keras\n\u001b[1m381/381\u001b[0m \u001b[32m━━━━━━━━━━━━━━━━━━━━\u001b[0m\u001b[37m\u001b[0m \u001b[1m159s\u001b[0m 411ms/step - acc: 0.9955 - loss: 0.0141 - val_acc: 0.9831 - val_loss: 0.0561\nEpoch 52/100\n\u001b[1m381/381\u001b[0m \u001b[32m━━━━━━━━━━━━━━━━━━━━\u001b[0m\u001b[37m\u001b[0m \u001b[1m0s\u001b[0m 369ms/step - acc: 0.9938 - loss: 0.0164\nEpoch 52: loss did not improve from 0.01543\n\u001b[1m381/381\u001b[0m \u001b[32m━━━━━━━━━━━━━━━━━━━━\u001b[0m\u001b[37m\u001b[0m \u001b[1m157s\u001b[0m 405ms/step - acc: 0.9938 - loss: 0.0164 - val_acc: 0.9875 - val_loss: 0.0436\nEpoch 53/100\n\u001b[1m381/381\u001b[0m \u001b[32m━━━━━━━━━━━━━━━━━━━━\u001b[0m\u001b[37m\u001b[0m \u001b[1m0s\u001b[0m 371ms/step - acc: 0.9912 - loss: 0.0239\nEpoch 53: loss did not improve from 0.01543\n\u001b[1m381/381\u001b[0m \u001b[32m━━━━━━━━━━━━━━━━━━━━\u001b[0m\u001b[37m\u001b[0m \u001b[1m158s\u001b[0m 407ms/step - acc: 0.9912 - loss: 0.0238 - val_acc: 0.9828 - val_loss: 0.0592\nEpoch 54/100\n\u001b[1m381/381\u001b[0m \u001b[32m━━━━━━━━━━━━━━━━━━━━\u001b[0m\u001b[37m\u001b[0m \u001b[1m0s\u001b[0m 374ms/step - acc: 0.9918 - loss: 0.0270\nEpoch 54: loss did not improve from 0.01543\n\u001b[1m381/381\u001b[0m \u001b[32m━━━━━━━━━━━━━━━━━━━━\u001b[0m\u001b[37m\u001b[0m \u001b[1m159s\u001b[0m 409ms/step - acc: 0.9918 - loss: 0.0270 - val_acc: 0.9809 - val_loss: 0.0709\nEpoch 55/100\n\u001b[1m381/381\u001b[0m \u001b[32m━━━━━━━━━━━━━━━━━━━━\u001b[0m\u001b[37m\u001b[0m \u001b[1m0s\u001b[0m 375ms/step - acc: 0.9909 - loss: 0.0247\nEpoch 55: loss did not improve from 0.01543\n\u001b[1m381/381\u001b[0m \u001b[32m━━━━━━━━━━━━━━━━━━━━\u001b[0m\u001b[37m\u001b[0m \u001b[1m159s\u001b[0m 410ms/step - acc: 0.9909 - loss: 0.0247 - val_acc: 0.9791 - val_loss: 0.0880\nEpoch 56/100\n\u001b[1m381/381\u001b[0m \u001b[32m━━━━━━━━━━━━━━━━━━━━\u001b[0m\u001b[37m\u001b[0m \u001b[1m0s\u001b[0m 377ms/step - acc: 0.9936 - loss: 0.0181\nEpoch 56: loss did not improve from 0.01543\n\u001b[1m381/381\u001b[0m \u001b[32m━━━━━━━━━━━━━━━━━━━━\u001b[0m\u001b[37m\u001b[0m \u001b[1m160s\u001b[0m 413ms/step - acc: 0.9936 - loss: 0.0181 - val_acc: 0.9850 - val_loss: 0.0537\nEpoch 57/100\n\u001b[1m381/381\u001b[0m \u001b[32m━━━━━━━━━━━━━━━━━━━━\u001b[0m\u001b[37m\u001b[0m \u001b[1m0s\u001b[0m 375ms/step - acc: 0.9954 - loss: 0.0137\nEpoch 57: loss did not improve from 0.01543\n\u001b[1m381/381\u001b[0m \u001b[32m━━━━━━━━━━━━━━━━━━━━\u001b[0m\u001b[37m\u001b[0m \u001b[1m159s\u001b[0m 410ms/step - acc: 0.9954 - loss: 0.0137 - val_acc: 0.9816 - val_loss: 0.0659\nEpoch 58/100\n\u001b[1m381/381\u001b[0m \u001b[32m━━━━━━━━━━━━━━━━━━━━\u001b[0m\u001b[37m\u001b[0m \u001b[1m0s\u001b[0m 366ms/step - acc: 0.9931 - loss: 0.0178\nEpoch 58: loss did not improve from 0.01543\n\u001b[1m381/381\u001b[0m \u001b[32m━━━━━━━━━━━━━━━━━━━━\u001b[0m\u001b[37m\u001b[0m \u001b[1m156s\u001b[0m 401ms/step - acc: 0.9931 - loss: 0.0178 - val_acc: 0.9822 - val_loss: 0.0587\nEpoch 59/100\n\u001b[1m381/381\u001b[0m \u001b[32m━━━━━━━━━━━━━━━━━━━━\u001b[0m\u001b[37m\u001b[0m \u001b[1m0s\u001b[0m 370ms/step - acc: 0.9963 - loss: 0.0105\nEpoch 59: loss improved from 0.01543 to 0.01254, saving model to model.keras\n\u001b[1m381/381\u001b[0m \u001b[32m━━━━━━━━━━━━━━━━━━━━\u001b[0m\u001b[37m\u001b[0m \u001b[1m159s\u001b[0m 410ms/step - acc: 0.9963 - loss: 0.0105 - val_acc: 0.9741 - val_loss: 0.1236\nEpoch 60/100\n\u001b[1m381/381\u001b[0m \u001b[32m━━━━━━━━━━━━━━━━━━━━\u001b[0m\u001b[37m\u001b[0m \u001b[1m0s\u001b[0m 373ms/step - acc: 0.9950 - loss: 0.0154\nEpoch 60: loss did not improve from 0.01254\n\u001b[1m381/381\u001b[0m \u001b[32m━━━━━━━━━━━━━━━━━━━━\u001b[0m\u001b[37m\u001b[0m \u001b[1m158s\u001b[0m 408ms/step - acc: 0.9950 - loss: 0.0154 - val_acc: 0.9850 - val_loss: 0.0507\nEpoch 61/100\n\u001b[1m381/381\u001b[0m \u001b[32m━━━━━━━━━━━━━━━━━━━━\u001b[0m\u001b[37m\u001b[0m \u001b[1m0s\u001b[0m 375ms/step - acc: 0.9936 - loss: 0.0163\nEpoch 61: loss did not improve from 0.01254\n\u001b[1m381/381\u001b[0m \u001b[32m━━━━━━━━━━━━━━━━━━━━\u001b[0m\u001b[37m\u001b[0m \u001b[1m159s\u001b[0m 411ms/step - acc: 0.9936 - loss: 0.0163 - val_acc: 0.9887 - val_loss: 0.0464\nEpoch 62/100\n\u001b[1m381/381\u001b[0m \u001b[32m━━━━━━━━━━━━━━━━━━━━\u001b[0m\u001b[37m\u001b[0m \u001b[1m0s\u001b[0m 375ms/step - acc: 0.9942 - loss: 0.0168\nEpoch 62: loss did not improve from 0.01254\n\u001b[1m381/381\u001b[0m \u001b[32m━━━━━━━━━━━━━━━━━━━━\u001b[0m\u001b[37m\u001b[0m \u001b[1m159s\u001b[0m 410ms/step - acc: 0.9942 - loss: 0.0168 - val_acc: 0.9778 - val_loss: 0.0811\nEpoch 63/100\n\u001b[1m381/381\u001b[0m \u001b[32m━━━━━━━━━━━━━━━━━━━━\u001b[0m\u001b[37m\u001b[0m \u001b[1m0s\u001b[0m 371ms/step - acc: 0.9952 - loss: 0.0125\nEpoch 63: loss did not improve from 0.01254\n\u001b[1m381/381\u001b[0m \u001b[32m━━━━━━━━━━━━━━━━━━━━\u001b[0m\u001b[37m\u001b[0m \u001b[1m158s\u001b[0m 406ms/step - acc: 0.9952 - loss: 0.0125 - val_acc: 0.9809 - val_loss: 0.0709\nEpoch 64/100\n\u001b[1m381/381\u001b[0m \u001b[32m━━━━━━━━━━━━━━━━━━━━\u001b[0m\u001b[37m\u001b[0m \u001b[1m0s\u001b[0m 372ms/step - acc: 0.9949 - loss: 0.0147\nEpoch 64: loss did not improve from 0.01254\n\u001b[1m381/381\u001b[0m \u001b[32m━━━━━━━━━━━━━━━━━━━━\u001b[0m\u001b[37m\u001b[0m \u001b[1m158s\u001b[0m 407ms/step - acc: 0.9949 - loss: 0.0147 - val_acc: 0.9841 - val_loss: 0.0650\nEpoch 65/100\n\u001b[1m381/381\u001b[0m \u001b[32m━━━━━━━━━━━━━━━━━━━━\u001b[0m\u001b[37m\u001b[0m \u001b[1m0s\u001b[0m 371ms/step - acc: 0.9951 - loss: 0.0138\nEpoch 65: loss did not improve from 0.01254\n\u001b[1m381/381\u001b[0m \u001b[32m━━━━━━━━━━━━━━━━━━━━\u001b[0m\u001b[37m\u001b[0m \u001b[1m157s\u001b[0m 406ms/step - acc: 0.9951 - loss: 0.0138 - val_acc: 0.9850 - val_loss: 0.0657\nEpoch 66/100\n\u001b[1m381/381\u001b[0m \u001b[32m━━━━━━━━━━━━━━━━━━━━\u001b[0m\u001b[37m\u001b[0m \u001b[1m0s\u001b[0m 360ms/step - acc: 0.9921 - loss: 0.0259\nEpoch 66: loss did not improve from 0.01254\n\u001b[1m381/381\u001b[0m \u001b[32m━━━━━━━━━━━━━━━━━━━━\u001b[0m\u001b[37m\u001b[0m \u001b[1m153s\u001b[0m 395ms/step - acc: 0.9921 - loss: 0.0259 - val_acc: 0.9856 - val_loss: 0.0561\nEpoch 67/100\n\u001b[1m381/381\u001b[0m \u001b[32m━━━━━━━━━━━━━━━━━━━━\u001b[0m\u001b[37m\u001b[0m \u001b[1m0s\u001b[0m 358ms/step - acc: 0.9939 - loss: 0.0241\nEpoch 67: loss did not improve from 0.01254\n\u001b[1m381/381\u001b[0m \u001b[32m━━━━━━━━━━━━━━━━━━━━\u001b[0m\u001b[37m\u001b[0m \u001b[1m153s\u001b[0m 394ms/step - acc: 0.9939 - loss: 0.0241 - val_acc: 0.9850 - val_loss: 0.0545\nEpoch 68/100\n\u001b[1m381/381\u001b[0m \u001b[32m━━━━━━━━━━━━━━━━━━━━\u001b[0m\u001b[37m\u001b[0m \u001b[1m0s\u001b[0m 370ms/step - acc: 0.9950 - loss: 0.0159\nEpoch 68: loss did not improve from 0.01254\n\u001b[1m381/381\u001b[0m \u001b[32m━━━━━━━━━━━━━━━━━━━━\u001b[0m\u001b[37m\u001b[0m \u001b[1m157s\u001b[0m 405ms/step - acc: 0.9950 - loss: 0.0159 - val_acc: 0.9872 - val_loss: 0.0446\nEpoch 69/100\n\u001b[1m381/381\u001b[0m \u001b[32m━━━━━━━━━━━━━━━━━━━━\u001b[0m\u001b[37m\u001b[0m \u001b[1m0s\u001b[0m 365ms/step - acc: 0.9905 - loss: 0.0344\nEpoch 69: loss did not improve from 0.01254\n\u001b[1m381/381\u001b[0m \u001b[32m━━━━━━━━━━━━━━━━━━━━\u001b[0m\u001b[37m\u001b[0m \u001b[1m155s\u001b[0m 401ms/step - acc: 0.9905 - loss: 0.0344 - val_acc: 0.9797 - val_loss: 0.0733\nEpoch 70/100\n\u001b[1m381/381\u001b[0m \u001b[32m━━━━━━━━━━━━━━━━━━━━\u001b[0m\u001b[37m\u001b[0m \u001b[1m0s\u001b[0m 370ms/step - acc: 0.9953 - loss: 0.0154\nEpoch 70: loss did not improve from 0.01254\n\u001b[1m381/381\u001b[0m \u001b[32m━━━━━━━━━━━━━━━━━━━━\u001b[0m\u001b[37m\u001b[0m \u001b[1m157s\u001b[0m 406ms/step - acc: 0.9953 - loss: 0.0154 - val_acc: 0.9881 - val_loss: 0.0522\nEpoch 71/100\n\u001b[1m381/381\u001b[0m \u001b[32m━━━━━━━━━━━━━━━━━━━━\u001b[0m\u001b[37m\u001b[0m \u001b[1m0s\u001b[0m 369ms/step - acc: 0.9921 - loss: 0.0205\nEpoch 71: loss did not improve from 0.01254\n\u001b[1m381/381\u001b[0m \u001b[32m━━━━━━━━━━━━━━━━━━━━\u001b[0m\u001b[37m\u001b[0m \u001b[1m157s\u001b[0m 404ms/step - acc: 0.9921 - loss: 0.0205 - val_acc: 0.9878 - val_loss: 0.0463\nEpoch 72/100\n\u001b[1m381/381\u001b[0m \u001b[32m━━━━━━━━━━━━━━━━━━━━\u001b[0m\u001b[37m\u001b[0m \u001b[1m0s\u001b[0m 368ms/step - acc: 0.9960 - loss: 0.0129\nEpoch 72: loss did not improve from 0.01254\n\u001b[1m381/381\u001b[0m \u001b[32m━━━━━━━━━━━━━━━━━━━━\u001b[0m\u001b[37m\u001b[0m \u001b[1m156s\u001b[0m 403ms/step - acc: 0.9960 - loss: 0.0129 - val_acc: 0.9812 - val_loss: 0.0781\nEpoch 73/100\n\u001b[1m381/381\u001b[0m \u001b[32m━━━━━━━━━━━━━━━━━━━━\u001b[0m\u001b[37m\u001b[0m \u001b[1m0s\u001b[0m 363ms/step - acc: 0.9954 - loss: 0.0162\nEpoch 73: loss did not improve from 0.01254\n\u001b[1m381/381\u001b[0m \u001b[32m━━━━━━━━━━━━━━━━━━━━\u001b[0m\u001b[37m\u001b[0m \u001b[1m155s\u001b[0m 399ms/step - acc: 0.9954 - loss: 0.0162 - val_acc: 0.9891 - val_loss: 0.0513\nEpoch 74/100\n\u001b[1m381/381\u001b[0m \u001b[32m━━━━━━━━━━━━━━━━━━━━\u001b[0m\u001b[37m\u001b[0m \u001b[1m0s\u001b[0m 357ms/step - acc: 0.9955 - loss: 0.0117\nEpoch 74: loss did not improve from 0.01254\n\u001b[1m381/381\u001b[0m \u001b[32m━━━━━━━━━━━━━━━━━━━━\u001b[0m\u001b[37m\u001b[0m \u001b[1m152s\u001b[0m 392ms/step - acc: 0.9955 - loss: 0.0117 - val_acc: 0.9831 - val_loss: 0.0584\nEpoch 75/100\n\u001b[1m381/381\u001b[0m \u001b[32m━━━━━━━━━━━━━━━━━━━━\u001b[0m\u001b[37m\u001b[0m \u001b[1m0s\u001b[0m 367ms/step - acc: 0.9950 - loss: 0.0177\nEpoch 75: loss did not improve from 0.01254\n\u001b[1m381/381\u001b[0m \u001b[32m━━━━━━━━━━━━━━━━━━━━\u001b[0m\u001b[37m\u001b[0m \u001b[1m156s\u001b[0m 403ms/step - acc: 0.9950 - loss: 0.0177 - val_acc: 0.9841 - val_loss: 0.0689\nEpoch 76/100\n\u001b[1m381/381\u001b[0m \u001b[32m━━━━━━━━━━━━━━━━━━━━\u001b[0m\u001b[37m\u001b[0m \u001b[1m0s\u001b[0m 371ms/step - acc: 0.9963 - loss: 0.0113\nEpoch 76: loss improved from 0.01254 to 0.01152, saving model to model.keras\n\u001b[1m381/381\u001b[0m \u001b[32m━━━━━━━━━━━━━━━━━━━━\u001b[0m\u001b[37m\u001b[0m \u001b[1m160s\u001b[0m 412ms/step - acc: 0.9963 - loss: 0.0113 - val_acc: 0.9859 - val_loss: 0.0603\nEpoch 77/100\n\u001b[1m381/381\u001b[0m \u001b[32m━━━━━━━━━━━━━━━━━━━━\u001b[0m\u001b[37m\u001b[0m \u001b[1m0s\u001b[0m 371ms/step - acc: 0.9965 - loss: 0.0078\nEpoch 77: loss improved from 0.01152 to 0.01054, saving model to model.keras\n\u001b[1m381/381\u001b[0m \u001b[32m━━━━━━━━━━━━━━━━━━━━\u001b[0m\u001b[37m\u001b[0m \u001b[1m159s\u001b[0m 411ms/step - acc: 0.9965 - loss: 0.0078 - val_acc: 0.9847 - val_loss: 0.0623\nEpoch 78/100\n\u001b[1m381/381\u001b[0m \u001b[32m━━━━━━━━━━━━━━━━━━━━\u001b[0m\u001b[37m\u001b[0m \u001b[1m0s\u001b[0m 374ms/step - acc: 0.9959 - loss: 0.0120\nEpoch 78: loss did not improve from 0.01054\n\u001b[1m381/381\u001b[0m \u001b[32m━━━━━━━━━━━━━━━━━━━━\u001b[0m\u001b[37m\u001b[0m \u001b[1m158s\u001b[0m 409ms/step - acc: 0.9959 - loss: 0.0120 - val_acc: 0.9881 - val_loss: 0.0487\nEpoch 79/100\n\u001b[1m381/381\u001b[0m \u001b[32m━━━━━━━━━━━━━━━━━━━━\u001b[0m\u001b[37m\u001b[0m \u001b[1m0s\u001b[0m 378ms/step - acc: 0.9961 - loss: 0.0113\nEpoch 79: loss did not improve from 0.01054\n\u001b[1m381/381\u001b[0m \u001b[32m━━━━━━━━━━━━━━━━━━━━\u001b[0m\u001b[37m\u001b[0m \u001b[1m160s\u001b[0m 413ms/step - acc: 0.9961 - loss: 0.0113 - val_acc: 0.9866 - val_loss: 0.0585\nEpoch 80/100\n\u001b[1m381/381\u001b[0m \u001b[32m━━━━━━━━━━━━━━━━━━━━\u001b[0m\u001b[37m\u001b[0m \u001b[1m0s\u001b[0m 384ms/step - acc: 0.9950 - loss: 0.0147\nEpoch 80: loss did not improve from 0.01054\n\u001b[1m381/381\u001b[0m \u001b[32m━━━━━━━━━━━━━━━━━━━━\u001b[0m\u001b[37m\u001b[0m \u001b[1m162s\u001b[0m 419ms/step - acc: 0.9950 - loss: 0.0148 - val_acc: 0.9819 - val_loss: 0.0766\nEpoch 81/100\n\u001b[1m381/381\u001b[0m \u001b[32m━━━━━━━━━━━━━━━━━━━━\u001b[0m\u001b[37m\u001b[0m \u001b[1m0s\u001b[0m 376ms/step - acc: 0.9952 - loss: 0.0157\nEpoch 81: loss did not improve from 0.01054\n\u001b[1m381/381\u001b[0m \u001b[32m━━━━━━━━━━━━━━━━━━━━\u001b[0m\u001b[37m\u001b[0m \u001b[1m159s\u001b[0m 411ms/step - acc: 0.9952 - loss: 0.0157 - val_acc: 0.9841 - val_loss: 0.0609\nEpoch 82/100\n\u001b[1m381/381\u001b[0m \u001b[32m━━━━━━━━━━━━━━━━━━━━\u001b[0m\u001b[37m\u001b[0m \u001b[1m0s\u001b[0m 379ms/step - acc: 0.9958 - loss: 0.0142\nEpoch 82: loss did not improve from 0.01054\n\u001b[1m381/381\u001b[0m \u001b[32m━━━━━━━━━━━━━━━━━━━━\u001b[0m\u001b[37m\u001b[0m \u001b[1m161s\u001b[0m 414ms/step - acc: 0.9958 - loss: 0.0142 - val_acc: 0.9837 - val_loss: 0.0642\nEpoch 83/100\n\u001b[1m381/381\u001b[0m \u001b[32m━━━━━━━━━━━━━━━━━━━━\u001b[0m\u001b[37m\u001b[0m \u001b[1m0s\u001b[0m 388ms/step - acc: 0.9969 - loss: 0.0078\nEpoch 83: loss improved from 0.01054 to 0.00889, saving model to model.keras\n\u001b[1m381/381\u001b[0m \u001b[32m━━━━━━━━━━━━━━━━━━━━\u001b[0m\u001b[37m\u001b[0m \u001b[1m166s\u001b[0m 429ms/step - acc: 0.9969 - loss: 0.0078 - val_acc: 0.9759 - val_loss: 0.1126\nEpoch 84/100\n\u001b[1m381/381\u001b[0m \u001b[32m━━━━━━━━━━━━━━━━━━━━\u001b[0m\u001b[37m\u001b[0m \u001b[1m0s\u001b[0m 387ms/step - acc: 0.9947 - loss: 0.0141\nEpoch 84: loss did not improve from 0.00889\n\u001b[1m381/381\u001b[0m \u001b[32m━━━━━━━━━━━━━━━━━━━━\u001b[0m\u001b[37m\u001b[0m \u001b[1m164s\u001b[0m 422ms/step - acc: 0.9947 - loss: 0.0141 - val_acc: 0.9850 - val_loss: 0.0621\nEpoch 85/100\n\u001b[1m381/381\u001b[0m \u001b[32m━━━━━━━━━━━━━━━━━━━━\u001b[0m\u001b[37m\u001b[0m \u001b[1m0s\u001b[0m 389ms/step - acc: 0.9955 - loss: 0.0128\nEpoch 85: loss did not improve from 0.00889\n\u001b[1m381/381\u001b[0m \u001b[32m━━━━━━━━━━━━━━━━━━━━\u001b[0m\u001b[37m\u001b[0m \u001b[1m165s\u001b[0m 425ms/step - acc: 0.9955 - loss: 0.0128 - val_acc: 0.9831 - val_loss: 0.0702\nEpoch 86/100\n\u001b[1m381/381\u001b[0m \u001b[32m━━━━━━━━━━━━━━━━━━━━\u001b[0m\u001b[37m\u001b[0m \u001b[1m0s\u001b[0m 385ms/step - acc: 0.9965 - loss: 0.0101\nEpoch 86: loss did not improve from 0.00889\n\u001b[1m381/381\u001b[0m \u001b[32m━━━━━━━━━━━━━━━━━━━━\u001b[0m\u001b[37m\u001b[0m \u001b[1m163s\u001b[0m 421ms/step - acc: 0.9965 - loss: 0.0102 - val_acc: 0.9878 - val_loss: 0.0500\nEpoch 87/100\n\u001b[1m381/381\u001b[0m \u001b[32m━━━━━━━━━━━━━━━━━━━━\u001b[0m\u001b[37m\u001b[0m \u001b[1m0s\u001b[0m 386ms/step - acc: 0.9976 - loss: 0.0076\nEpoch 87: loss did not improve from 0.00889\n\u001b[1m381/381\u001b[0m \u001b[32m━━━━━━━━━━━━━━━━━━━━\u001b[0m\u001b[37m\u001b[0m \u001b[1m163s\u001b[0m 421ms/step - acc: 0.9976 - loss: 0.0076 - val_acc: 0.9791 - val_loss: 0.1042\nEpoch 88/100\n\u001b[1m381/381\u001b[0m \u001b[32m━━━━━━━━━━━━━━━━━━━━\u001b[0m\u001b[37m\u001b[0m \u001b[1m0s\u001b[0m 378ms/step - acc: 0.9946 - loss: 0.0183\nEpoch 88: loss did not improve from 0.00889\n\u001b[1m381/381\u001b[0m \u001b[32m━━━━━━━━━━━━━━━━━━━━\u001b[0m\u001b[37m\u001b[0m \u001b[1m160s\u001b[0m 414ms/step - acc: 0.9946 - loss: 0.0183 - val_acc: 0.9784 - val_loss: 0.1064\nEpoch 89/100\n\u001b[1m381/381\u001b[0m \u001b[32m━━━━━━━━━━━━━━━━━━━━\u001b[0m\u001b[37m\u001b[0m \u001b[1m0s\u001b[0m 378ms/step - acc: 0.9958 - loss: 0.0116\nEpoch 89: loss did not improve from 0.00889\n\u001b[1m381/381\u001b[0m \u001b[32m━━━━━━━━━━━━━━━━━━━━\u001b[0m\u001b[37m\u001b[0m \u001b[1m160s\u001b[0m 413ms/step - acc: 0.9958 - loss: 0.0116 - val_acc: 0.9856 - val_loss: 0.0664\nEpoch 90/100\n\u001b[1m381/381\u001b[0m \u001b[32m━━━━━━━━━━━━━━━━━━━━\u001b[0m\u001b[37m\u001b[0m \u001b[1m0s\u001b[0m 367ms/step - acc: 0.9976 - loss: 0.0077\nEpoch 90: loss did not improve from 0.00889\n\u001b[1m381/381\u001b[0m \u001b[32m━━━━━━━━━━━━━━━━━━━━\u001b[0m\u001b[37m\u001b[0m \u001b[1m156s\u001b[0m 402ms/step - acc: 0.9976 - loss: 0.0077 - val_acc: 0.9800 - val_loss: 0.1059\nEpoch 91/100\n\u001b[1m381/381\u001b[0m \u001b[32m━━━━━━━━━━━━━━━━━━━━\u001b[0m\u001b[37m\u001b[0m \u001b[1m0s\u001b[0m 364ms/step - acc: 0.9949 - loss: 0.0128\nEpoch 91: loss did not improve from 0.00889\n\u001b[1m381/381\u001b[0m \u001b[32m━━━━━━━━━━━━━━━━━━━━\u001b[0m\u001b[37m\u001b[0m \u001b[1m155s\u001b[0m 400ms/step - acc: 0.9949 - loss: 0.0128 - val_acc: 0.9875 - val_loss: 0.0587\nEpoch 92/100\n\u001b[1m381/381\u001b[0m \u001b[32m━━━━━━━━━━━━━━━━━━━━\u001b[0m\u001b[37m\u001b[0m \u001b[1m0s\u001b[0m 372ms/step - acc: 0.9976 - loss: 0.0063\nEpoch 92: loss did not improve from 0.00889\n\u001b[1m381/381\u001b[0m \u001b[32m━━━━━━━━━━━━━━━━━━━━\u001b[0m\u001b[37m\u001b[0m \u001b[1m158s\u001b[0m 407ms/step - acc: 0.9976 - loss: 0.0063 - val_acc: 0.9850 - val_loss: 0.0620\nEpoch 93/100\n\u001b[1m381/381\u001b[0m \u001b[32m━━━━━━━━━━━━━━━━━━━━\u001b[0m\u001b[37m\u001b[0m \u001b[1m0s\u001b[0m 373ms/step - acc: 0.9961 - loss: 0.0118\nEpoch 93: loss did not improve from 0.00889\n\u001b[1m381/381\u001b[0m \u001b[32m━━━━━━━━━━━━━━━━━━━━\u001b[0m\u001b[37m\u001b[0m \u001b[1m158s\u001b[0m 408ms/step - acc: 0.9961 - loss: 0.0118 - val_acc: 0.9850 - val_loss: 0.0704\nEpoch 94/100\n\u001b[1m381/381\u001b[0m \u001b[32m━━━━━━━━━━━━━━━━━━━━\u001b[0m\u001b[37m\u001b[0m \u001b[1m0s\u001b[0m 372ms/step - acc: 0.9957 - loss: 0.0118\nEpoch 94: loss did not improve from 0.00889\n\u001b[1m381/381\u001b[0m \u001b[32m━━━━━━━━━━━━━━━━━━━━\u001b[0m\u001b[37m\u001b[0m \u001b[1m158s\u001b[0m 408ms/step - acc: 0.9957 - loss: 0.0118 - val_acc: 0.9881 - val_loss: 0.0534\nEpoch 95/100\n\u001b[1m381/381\u001b[0m \u001b[32m━━━━━━━━━━━━━━━━━━━━\u001b[0m\u001b[37m\u001b[0m \u001b[1m0s\u001b[0m 375ms/step - acc: 0.9975 - loss: 0.0094\nEpoch 95: loss did not improve from 0.00889\n\u001b[1m381/381\u001b[0m \u001b[32m━━━━━━━━━━━━━━━━━━━━\u001b[0m\u001b[37m\u001b[0m \u001b[1m159s\u001b[0m 410ms/step - acc: 0.9975 - loss: 0.0094 - val_acc: 0.9837 - val_loss: 0.0805\nEpoch 96/100\n\u001b[1m381/381\u001b[0m \u001b[32m━━━━━━━━━━━━━━━━━━━━\u001b[0m\u001b[37m\u001b[0m \u001b[1m0s\u001b[0m 371ms/step - acc: 0.9947 - loss: 0.0168\nEpoch 96: loss did not improve from 0.00889\n\u001b[1m381/381\u001b[0m \u001b[32m━━━━━━━━━━━━━━━━━━━━\u001b[0m\u001b[37m\u001b[0m \u001b[1m157s\u001b[0m 406ms/step - acc: 0.9947 - loss: 0.0167 - val_acc: 0.9869 - val_loss: 0.0570\nEpoch 97/100\n\u001b[1m381/381\u001b[0m \u001b[32m━━━━━━━━━━━━━━━━━━━━\u001b[0m\u001b[37m\u001b[0m \u001b[1m0s\u001b[0m 367ms/step - acc: 0.9959 - loss: 0.0149\nEpoch 97: loss did not improve from 0.00889\n\u001b[1m381/381\u001b[0m \u001b[32m━━━━━━━━━━━━━━━━━━━━\u001b[0m\u001b[37m\u001b[0m \u001b[1m156s\u001b[0m 402ms/step - acc: 0.9959 - loss: 0.0149 - val_acc: 0.9884 - val_loss: 0.0559\nEpoch 98/100\n\u001b[1m381/381\u001b[0m \u001b[32m━━━━━━━━━━━━━━━━━━━━\u001b[0m\u001b[37m\u001b[0m \u001b[1m0s\u001b[0m 365ms/step - acc: 0.9963 - loss: 0.0102\nEpoch 98: loss did not improve from 0.00889\n\u001b[1m381/381\u001b[0m \u001b[32m━━━━━━━━━━━━━━━━━━━━\u001b[0m\u001b[37m\u001b[0m \u001b[1m155s\u001b[0m 400ms/step - acc: 0.9963 - loss: 0.0102 - val_acc: 0.9900 - val_loss: 0.0510\nEpoch 99/100\n\u001b[1m381/381\u001b[0m \u001b[32m━━━━━━━━━━━━━━━━━━━━\u001b[0m\u001b[37m\u001b[0m \u001b[1m0s\u001b[0m 363ms/step - acc: 0.9969 - loss: 0.0109\nEpoch 99: loss improved from 0.00889 to 0.00822, saving model to model.keras\n\u001b[1m381/381\u001b[0m \u001b[32m━━━━━━━━━━━━━━━━━━━━\u001b[0m\u001b[37m\u001b[0m \u001b[1m156s\u001b[0m 403ms/step - acc: 0.9969 - loss: 0.0109 - val_acc: 0.9866 - val_loss: 0.0686\nEpoch 100/100\n\u001b[1m381/381\u001b[0m \u001b[32m━━━━━━━━━━━━━━━━━━━━\u001b[0m\u001b[37m\u001b[0m \u001b[1m0s\u001b[0m 377ms/step - acc: 0.9955 - loss: 0.0158\nEpoch 100: loss did not improve from 0.00822\n\u001b[1m381/381\u001b[0m \u001b[32m━━━━━━━━━━━━━━━━━━━━\u001b[0m\u001b[37m\u001b[0m \u001b[1m160s\u001b[0m 412ms/step - acc: 0.9955 - loss: 0.0157 - val_acc: 0.9822 - val_loss: 0.0862\n",
          "output_type": "stream"
        }
      ],
      "execution_count": null
    }
  ]
}