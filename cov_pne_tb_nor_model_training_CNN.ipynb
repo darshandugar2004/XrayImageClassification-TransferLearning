{
  "metadata": {
    "kernelspec": {
      "language": "python",
      "display_name": "Python 3",
      "name": "python3"
    },
    "language_info": {
      "name": "python",
      "version": "3.10.12",
      "mimetype": "text/x-python",
      "codemirror_mode": {
        "name": "ipython",
        "version": 3
      },
      "pygments_lexer": "ipython3",
      "nbconvert_exporter": "python",
      "file_extension": ".py"
    },
    "kaggle": {
      "accelerator": "nvidiaTeslaT4",
      "dataSources": [
        {
          "sourceId": 10205188,
          "sourceType": "datasetVersion",
          "datasetId": 6306570
        }
      ],
      "dockerImageVersionId": 30918,
      "isInternetEnabled": true,
      "language": "python",
      "sourceType": "notebook",
      "isGpuEnabled": true
    },
    "colab": {
      "provenance": [],
      "include_colab_link": true
    }
  },
  "nbformat_minor": 0,
  "nbformat": 4,
  "cells": [
    {
      "cell_type": "markdown",
      "metadata": {
        "id": "view-in-github",
        "colab_type": "text"
      },
      "source": [
        "<a href=\"https://colab.research.google.com/github/darshandugar2004/XrayImageClassification-TransferLearning/blob/main/cov_pne_tb_nor_model_training_CNN.ipynb\" target=\"_parent\"><img src=\"https://colab.research.google.com/assets/colab-badge.svg\" alt=\"Open In Colab\"/></a>"
      ]
    },
    {
      "cell_type": "code",
      "source": [
        "import os\n",
        "import cv2\n",
        "import numpy as np\n",
        "import pandas as pd\n",
        "import matplotlib.pyplot as plt\n",
        "\n",
        "dataset_path = \"/kaggle/input/3in1-chest-x-raycovid-pneumonia-tb/3in1-Chest-X-ray(COVID, PNEUMONIA, TB)\"\n",
        "\n",
        "# Listing images\n",
        "covid_path = os.path.join(dataset_path, \"COVID-19\")\n",
        "normal_path = os.path.join(dataset_path, \"NORMAL\")\n",
        "pne_path = os.path.join(dataset_path, \"PNEUMONIA\")\n",
        "tb_path = os.path.join(dataset_path,\"TUBERCULOSIS\")\n",
        "\n",
        "covid_urls = os.listdir(covid_path)\n",
        "normal_urls = os.listdir(normal_path)\n",
        "pne_urls = os.listdir(pne_path)\n",
        "tb_urls = os.listdir(tb_path)\n",
        "\n",
        "print(f\"COVID Images: {len(covid_urls)}\")\n",
        "print(f\"Normal Images: {len(normal_urls)}\")\n",
        "print(f\"Pneumonia Images: {len(pne_urls)}\")\n",
        "print(f\"Tb Images: {len(tb_urls)}\")\n"
      ],
      "metadata": {
        "_uuid": "8f2839f25d086af736a60e9eeb907d3b93b6e0e5",
        "_cell_guid": "b1076dfc-b9ad-4769-8c92-a6c4dae69d19",
        "trusted": true,
        "execution": {
          "iopub.status.busy": "2025-03-11T23:30:51.534420Z",
          "iopub.execute_input": "2025-03-11T23:30:51.534885Z",
          "iopub.status.idle": "2025-03-11T23:30:55.320328Z",
          "shell.execute_reply.started": "2025-03-11T23:30:51.534847Z",
          "shell.execute_reply": "2025-03-11T23:30:55.319238Z"
        },
        "id": "TZ8Xhw-iKg2f",
        "outputId": "179fdeb7-ec6a-48b0-e60b-016c1c1cb46d"
      },
      "outputs": [
        {
          "name": "stdout",
          "text": "COVID Images: 5689\nNormal Images: 12289\nPneumonia Images: 5618\nTb Images: 3194\n",
          "output_type": "stream"
        }
      ],
      "execution_count": null
    },
    {
      "cell_type": "code",
      "source": [
        "def loadImages(path, urls, target):\n",
        "  images = []\n",
        "  labels = []\n",
        "  for i in range(len(urls)):\n",
        "    img_path = path + \"/\" + urls[i]\n",
        "    img = cv2.imread(img_path)\n",
        "    img = img / 255.0\n",
        "    #print(img_path)\n",
        "    # if we want to resize the images\n",
        "    img = cv2.resize(img, (100, 100))\n",
        "    images.append(img)\n",
        "    labels.append(target)\n",
        "  images = np.asarray(images)\n",
        "  return images, labels\n",
        "covid_path = \"/kaggle/input/3in1-chest-x-raycovid-pneumonia-tb/3in1-Chest-X-ray(COVID, PNEUMONIA, TB)/COVID-19\"\n",
        "covidUrl = os.listdir(covid_path)\n",
        "covidImages, covidTargets = loadImages(covid_path, covidUrl, 0)\n",
        "len(covidUrl), len(covidImages)"
      ],
      "metadata": {
        "trusted": true,
        "execution": {
          "iopub.status.busy": "2025-03-11T23:30:55.321511Z",
          "iopub.execute_input": "2025-03-11T23:30:55.321953Z",
          "iopub.status.idle": "2025-03-11T23:32:49.563437Z",
          "shell.execute_reply.started": "2025-03-11T23:30:55.321926Z",
          "shell.execute_reply": "2025-03-11T23:32:49.562519Z"
        },
        "id": "B7S0bNycKg2j",
        "outputId": "f061a129-524d-4fcc-912a-8b6938081f6e"
      },
      "outputs": [
        {
          "execution_count": 2,
          "output_type": "execute_result",
          "data": {
            "text/plain": "(5689, 5689)"
          },
          "metadata": {}
        }
      ],
      "execution_count": null
    },
    {
      "cell_type": "code",
      "source": [
        "normal_path = \"/kaggle/input/3in1-chest-x-raycovid-pneumonia-tb/3in1-Chest-X-ray(COVID, PNEUMONIA, TB)/NORMAL\"\n",
        "normal_urls = os.listdir(normal_path)\n",
        "normalImages, normalTargets = loadImages(normal_path, normal_urls, 1)"
      ],
      "metadata": {
        "trusted": true,
        "execution": {
          "iopub.status.busy": "2025-03-11T23:32:49.565271Z",
          "iopub.execute_input": "2025-03-11T23:32:49.565518Z",
          "iopub.status.idle": "2025-03-11T23:35:43.620992Z",
          "shell.execute_reply.started": "2025-03-11T23:32:49.565498Z",
          "shell.execute_reply": "2025-03-11T23:35:43.619911Z"
        },
        "id": "0XXRLZljKg2k"
      },
      "outputs": [],
      "execution_count": null
    },
    {
      "cell_type": "code",
      "source": [
        "pne_path = \"/kaggle/input/3in1-chest-x-raycovid-pneumonia-tb/3in1-Chest-X-ray(COVID, PNEUMONIA, TB)/PNEUMONIA\"\n",
        "pne_urls = os.listdir(pne_path)\n",
        "pneImages, pneTargets = loadImages(pne_path, pne_urls, 2)"
      ],
      "metadata": {
        "trusted": true,
        "execution": {
          "iopub.status.busy": "2025-03-11T23:35:43.622305Z",
          "iopub.execute_input": "2025-03-11T23:35:43.622571Z",
          "iopub.status.idle": "2025-03-11T23:37:18.526278Z",
          "shell.execute_reply.started": "2025-03-11T23:35:43.622548Z",
          "shell.execute_reply": "2025-03-11T23:37:18.525345Z"
        },
        "id": "HP0wHo4bKg2l"
      },
      "outputs": [],
      "execution_count": null
    },
    {
      "cell_type": "code",
      "source": [
        "tb_path = \"/kaggle/input/3in1-chest-x-raycovid-pneumonia-tb/3in1-Chest-X-ray(COVID, PNEUMONIA, TB)/TUBERCULOSIS\"\n",
        "tb_urls = os.listdir(tb_path)\n",
        "tbImages, tbTargets = loadImages(tb_path, tb_urls, 3)"
      ],
      "metadata": {
        "trusted": true,
        "execution": {
          "iopub.status.busy": "2025-03-11T23:37:18.527356Z",
          "iopub.execute_input": "2025-03-11T23:37:18.527712Z",
          "iopub.status.idle": "2025-03-11T23:37:45.625430Z",
          "shell.execute_reply.started": "2025-03-11T23:37:18.527674Z",
          "shell.execute_reply": "2025-03-11T23:37:45.624244Z"
        },
        "id": "4I-MnrMrKg2l"
      },
      "outputs": [],
      "execution_count": null
    },
    {
      "cell_type": "code",
      "source": [
        "data = np.r_[covidImages, normalImages,pneImages,tbImages]\n",
        "targets = np.r_[covidTargets,normalTargets,pneTargets, tbTargets]"
      ],
      "metadata": {
        "trusted": true,
        "execution": {
          "iopub.status.busy": "2025-03-11T23:37:45.626379Z",
          "iopub.execute_input": "2025-03-11T23:37:45.626634Z",
          "iopub.status.idle": "2025-03-11T23:37:47.823220Z",
          "shell.execute_reply.started": "2025-03-11T23:37:45.626613Z",
          "shell.execute_reply": "2025-03-11T23:37:47.822453Z"
        },
        "id": "v0rM5qelKg2m"
      },
      "outputs": [],
      "execution_count": null
    },
    {
      "cell_type": "code",
      "source": [
        "from sklearn.model_selection import train_test_split\n",
        "x_train, x_test, y_train, y_test = train_test_split(data, targets, test_size=0.25)"
      ],
      "metadata": {
        "trusted": true,
        "execution": {
          "iopub.status.busy": "2025-03-11T23:37:47.824082Z",
          "iopub.execute_input": "2025-03-11T23:37:47.824442Z",
          "iopub.status.idle": "2025-03-11T23:37:52.666290Z",
          "shell.execute_reply.started": "2025-03-11T23:37:47.824404Z",
          "shell.execute_reply": "2025-03-11T23:37:52.665583Z"
        },
        "id": "pIebZN13Kg2n"
      },
      "outputs": [],
      "execution_count": null
    },
    {
      "cell_type": "code",
      "source": [
        "import tensorflow as tf\n",
        "from tensorflow.keras.models import Sequential\n",
        "from tensorflow.keras.layers import Conv2D, MaxPooling2D, Flatten, Dense"
      ],
      "metadata": {
        "trusted": true,
        "execution": {
          "iopub.status.busy": "2025-03-11T23:37:52.669096Z",
          "iopub.execute_input": "2025-03-11T23:37:52.669540Z",
          "iopub.status.idle": "2025-03-11T23:38:06.462107Z",
          "shell.execute_reply.started": "2025-03-11T23:37:52.669517Z",
          "shell.execute_reply": "2025-03-11T23:38:06.460947Z"
        },
        "id": "VAz3aDPDKg2o"
      },
      "outputs": [],
      "execution_count": null
    },
    {
      "cell_type": "code",
      "source": [
        "from tensorflow.keras.utils import to_categorical\n",
        "\n",
        "num_classes = len(np.unique(y_train))\n",
        "y_train = to_categorical(y_train, num_classes)\n",
        "y_test = to_categorical(y_test, num_classes)\n",
        "\n",
        "model = Sequential([\n",
        "    Conv2D(32, 3, input_shape=(100,100,3), activation='relu'),\n",
        "    MaxPooling2D(),\n",
        "    Conv2D(16, 3, activation='relu'),\n",
        "    MaxPooling2D(),\n",
        "    Conv2D(16, 3, activation='relu'),\n",
        "    MaxPooling2D(),\n",
        "    Flatten(),\n",
        "    Dense(512, activation='relu'),\n",
        "    Dense(256, activation='relu'),\n",
        "    Dense(num_classes, activation='softmax')  # Change for multi-class\n",
        "])\n",
        "\n",
        "\n",
        "\n",
        "model.summary()\n",
        "\n",
        "model.compile(optimizer='adam',\n",
        "              loss='categorical_crossentropy',\n",
        "              metrics=['accuracy', tf.keras.metrics.Precision(), tf.keras.metrics.Recall()])"
      ],
      "metadata": {
        "trusted": true,
        "execution": {
          "iopub.status.busy": "2025-03-11T23:38:06.463474Z",
          "iopub.execute_input": "2025-03-11T23:38:06.464048Z",
          "iopub.status.idle": "2025-03-11T23:38:10.851331Z",
          "shell.execute_reply.started": "2025-03-11T23:38:06.463987Z",
          "shell.execute_reply": "2025-03-11T23:38:10.850670Z"
        },
        "id": "V_vKo5fPKg2p",
        "outputId": "2c14a5ee-316d-4448-f7c6-0a01126c37ad"
      },
      "outputs": [
        {
          "name": "stderr",
          "text": "/usr/local/lib/python3.10/dist-packages/keras/src/layers/convolutional/base_conv.py:107: UserWarning: Do not pass an `input_shape`/`input_dim` argument to a layer. When using Sequential models, prefer using an `Input(shape)` object as the first layer in the model instead.\n  super().__init__(activity_regularizer=activity_regularizer, **kwargs)\n",
          "output_type": "stream"
        },
        {
          "output_type": "display_data",
          "data": {
            "text/plain": "\u001b[1mModel: \"sequential\"\u001b[0m\n",
            "text/html": "<pre style=\"white-space:pre;overflow-x:auto;line-height:normal;font-family:Menlo,'DejaVu Sans Mono',consolas,'Courier New',monospace\"><span style=\"font-weight: bold\">Model: \"sequential\"</span>\n</pre>\n"
          },
          "metadata": {}
        },
        {
          "output_type": "display_data",
          "data": {
            "text/plain": "┏━━━━━━━━━━━━━━━━━━━━━━━━━━━━━━━━━━━━━━┳━━━━━━━━━━━━━━━━━━━━━━━━━━━━━┳━━━━━━━━━━━━━━━━━┓\n┃\u001b[1m \u001b[0m\u001b[1mLayer (type)                        \u001b[0m\u001b[1m \u001b[0m┃\u001b[1m \u001b[0m\u001b[1mOutput Shape               \u001b[0m\u001b[1m \u001b[0m┃\u001b[1m \u001b[0m\u001b[1m        Param #\u001b[0m\u001b[1m \u001b[0m┃\n┡━━━━━━━━━━━━━━━━━━━━━━━━━━━━━━━━━━━━━━╇━━━━━━━━━━━━━━━━━━━━━━━━━━━━━╇━━━━━━━━━━━━━━━━━┩\n│ conv2d (\u001b[38;5;33mConv2D\u001b[0m)                      │ (\u001b[38;5;45mNone\u001b[0m, \u001b[38;5;34m98\u001b[0m, \u001b[38;5;34m98\u001b[0m, \u001b[38;5;34m32\u001b[0m)          │             \u001b[38;5;34m896\u001b[0m │\n├──────────────────────────────────────┼─────────────────────────────┼─────────────────┤\n│ max_pooling2d (\u001b[38;5;33mMaxPooling2D\u001b[0m)         │ (\u001b[38;5;45mNone\u001b[0m, \u001b[38;5;34m49\u001b[0m, \u001b[38;5;34m49\u001b[0m, \u001b[38;5;34m32\u001b[0m)          │               \u001b[38;5;34m0\u001b[0m │\n├──────────────────────────────────────┼─────────────────────────────┼─────────────────┤\n│ conv2d_1 (\u001b[38;5;33mConv2D\u001b[0m)                    │ (\u001b[38;5;45mNone\u001b[0m, \u001b[38;5;34m47\u001b[0m, \u001b[38;5;34m47\u001b[0m, \u001b[38;5;34m16\u001b[0m)          │           \u001b[38;5;34m4,624\u001b[0m │\n├──────────────────────────────────────┼─────────────────────────────┼─────────────────┤\n│ max_pooling2d_1 (\u001b[38;5;33mMaxPooling2D\u001b[0m)       │ (\u001b[38;5;45mNone\u001b[0m, \u001b[38;5;34m23\u001b[0m, \u001b[38;5;34m23\u001b[0m, \u001b[38;5;34m16\u001b[0m)          │               \u001b[38;5;34m0\u001b[0m │\n├──────────────────────────────────────┼─────────────────────────────┼─────────────────┤\n│ conv2d_2 (\u001b[38;5;33mConv2D\u001b[0m)                    │ (\u001b[38;5;45mNone\u001b[0m, \u001b[38;5;34m21\u001b[0m, \u001b[38;5;34m21\u001b[0m, \u001b[38;5;34m16\u001b[0m)          │           \u001b[38;5;34m2,320\u001b[0m │\n├──────────────────────────────────────┼─────────────────────────────┼─────────────────┤\n│ max_pooling2d_2 (\u001b[38;5;33mMaxPooling2D\u001b[0m)       │ (\u001b[38;5;45mNone\u001b[0m, \u001b[38;5;34m10\u001b[0m, \u001b[38;5;34m10\u001b[0m, \u001b[38;5;34m16\u001b[0m)          │               \u001b[38;5;34m0\u001b[0m │\n├──────────────────────────────────────┼─────────────────────────────┼─────────────────┤\n│ flatten (\u001b[38;5;33mFlatten\u001b[0m)                    │ (\u001b[38;5;45mNone\u001b[0m, \u001b[38;5;34m1600\u001b[0m)                │               \u001b[38;5;34m0\u001b[0m │\n├──────────────────────────────────────┼─────────────────────────────┼─────────────────┤\n│ dense (\u001b[38;5;33mDense\u001b[0m)                        │ (\u001b[38;5;45mNone\u001b[0m, \u001b[38;5;34m512\u001b[0m)                 │         \u001b[38;5;34m819,712\u001b[0m │\n├──────────────────────────────────────┼─────────────────────────────┼─────────────────┤\n│ dense_1 (\u001b[38;5;33mDense\u001b[0m)                      │ (\u001b[38;5;45mNone\u001b[0m, \u001b[38;5;34m256\u001b[0m)                 │         \u001b[38;5;34m131,328\u001b[0m │\n├──────────────────────────────────────┼─────────────────────────────┼─────────────────┤\n│ dense_2 (\u001b[38;5;33mDense\u001b[0m)                      │ (\u001b[38;5;45mNone\u001b[0m, \u001b[38;5;34m4\u001b[0m)                   │           \u001b[38;5;34m1,028\u001b[0m │\n└──────────────────────────────────────┴─────────────────────────────┴─────────────────┘\n",
            "text/html": "<pre style=\"white-space:pre;overflow-x:auto;line-height:normal;font-family:Menlo,'DejaVu Sans Mono',consolas,'Courier New',monospace\">┏━━━━━━━━━━━━━━━━━━━━━━━━━━━━━━━━━━━━━━┳━━━━━━━━━━━━━━━━━━━━━━━━━━━━━┳━━━━━━━━━━━━━━━━━┓\n┃<span style=\"font-weight: bold\"> Layer (type)                         </span>┃<span style=\"font-weight: bold\"> Output Shape                </span>┃<span style=\"font-weight: bold\">         Param # </span>┃\n┡━━━━━━━━━━━━━━━━━━━━━━━━━━━━━━━━━━━━━━╇━━━━━━━━━━━━━━━━━━━━━━━━━━━━━╇━━━━━━━━━━━━━━━━━┩\n│ conv2d (<span style=\"color: #0087ff; text-decoration-color: #0087ff\">Conv2D</span>)                      │ (<span style=\"color: #00d7ff; text-decoration-color: #00d7ff\">None</span>, <span style=\"color: #00af00; text-decoration-color: #00af00\">98</span>, <span style=\"color: #00af00; text-decoration-color: #00af00\">98</span>, <span style=\"color: #00af00; text-decoration-color: #00af00\">32</span>)          │             <span style=\"color: #00af00; text-decoration-color: #00af00\">896</span> │\n├──────────────────────────────────────┼─────────────────────────────┼─────────────────┤\n│ max_pooling2d (<span style=\"color: #0087ff; text-decoration-color: #0087ff\">MaxPooling2D</span>)         │ (<span style=\"color: #00d7ff; text-decoration-color: #00d7ff\">None</span>, <span style=\"color: #00af00; text-decoration-color: #00af00\">49</span>, <span style=\"color: #00af00; text-decoration-color: #00af00\">49</span>, <span style=\"color: #00af00; text-decoration-color: #00af00\">32</span>)          │               <span style=\"color: #00af00; text-decoration-color: #00af00\">0</span> │\n├──────────────────────────────────────┼─────────────────────────────┼─────────────────┤\n│ conv2d_1 (<span style=\"color: #0087ff; text-decoration-color: #0087ff\">Conv2D</span>)                    │ (<span style=\"color: #00d7ff; text-decoration-color: #00d7ff\">None</span>, <span style=\"color: #00af00; text-decoration-color: #00af00\">47</span>, <span style=\"color: #00af00; text-decoration-color: #00af00\">47</span>, <span style=\"color: #00af00; text-decoration-color: #00af00\">16</span>)          │           <span style=\"color: #00af00; text-decoration-color: #00af00\">4,624</span> │\n├──────────────────────────────────────┼─────────────────────────────┼─────────────────┤\n│ max_pooling2d_1 (<span style=\"color: #0087ff; text-decoration-color: #0087ff\">MaxPooling2D</span>)       │ (<span style=\"color: #00d7ff; text-decoration-color: #00d7ff\">None</span>, <span style=\"color: #00af00; text-decoration-color: #00af00\">23</span>, <span style=\"color: #00af00; text-decoration-color: #00af00\">23</span>, <span style=\"color: #00af00; text-decoration-color: #00af00\">16</span>)          │               <span style=\"color: #00af00; text-decoration-color: #00af00\">0</span> │\n├──────────────────────────────────────┼─────────────────────────────┼─────────────────┤\n│ conv2d_2 (<span style=\"color: #0087ff; text-decoration-color: #0087ff\">Conv2D</span>)                    │ (<span style=\"color: #00d7ff; text-decoration-color: #00d7ff\">None</span>, <span style=\"color: #00af00; text-decoration-color: #00af00\">21</span>, <span style=\"color: #00af00; text-decoration-color: #00af00\">21</span>, <span style=\"color: #00af00; text-decoration-color: #00af00\">16</span>)          │           <span style=\"color: #00af00; text-decoration-color: #00af00\">2,320</span> │\n├──────────────────────────────────────┼─────────────────────────────┼─────────────────┤\n│ max_pooling2d_2 (<span style=\"color: #0087ff; text-decoration-color: #0087ff\">MaxPooling2D</span>)       │ (<span style=\"color: #00d7ff; text-decoration-color: #00d7ff\">None</span>, <span style=\"color: #00af00; text-decoration-color: #00af00\">10</span>, <span style=\"color: #00af00; text-decoration-color: #00af00\">10</span>, <span style=\"color: #00af00; text-decoration-color: #00af00\">16</span>)          │               <span style=\"color: #00af00; text-decoration-color: #00af00\">0</span> │\n├──────────────────────────────────────┼─────────────────────────────┼─────────────────┤\n│ flatten (<span style=\"color: #0087ff; text-decoration-color: #0087ff\">Flatten</span>)                    │ (<span style=\"color: #00d7ff; text-decoration-color: #00d7ff\">None</span>, <span style=\"color: #00af00; text-decoration-color: #00af00\">1600</span>)                │               <span style=\"color: #00af00; text-decoration-color: #00af00\">0</span> │\n├──────────────────────────────────────┼─────────────────────────────┼─────────────────┤\n│ dense (<span style=\"color: #0087ff; text-decoration-color: #0087ff\">Dense</span>)                        │ (<span style=\"color: #00d7ff; text-decoration-color: #00d7ff\">None</span>, <span style=\"color: #00af00; text-decoration-color: #00af00\">512</span>)                 │         <span style=\"color: #00af00; text-decoration-color: #00af00\">819,712</span> │\n├──────────────────────────────────────┼─────────────────────────────┼─────────────────┤\n│ dense_1 (<span style=\"color: #0087ff; text-decoration-color: #0087ff\">Dense</span>)                      │ (<span style=\"color: #00d7ff; text-decoration-color: #00d7ff\">None</span>, <span style=\"color: #00af00; text-decoration-color: #00af00\">256</span>)                 │         <span style=\"color: #00af00; text-decoration-color: #00af00\">131,328</span> │\n├──────────────────────────────────────┼─────────────────────────────┼─────────────────┤\n│ dense_2 (<span style=\"color: #0087ff; text-decoration-color: #0087ff\">Dense</span>)                      │ (<span style=\"color: #00d7ff; text-decoration-color: #00d7ff\">None</span>, <span style=\"color: #00af00; text-decoration-color: #00af00\">4</span>)                   │           <span style=\"color: #00af00; text-decoration-color: #00af00\">1,028</span> │\n└──────────────────────────────────────┴─────────────────────────────┴─────────────────┘\n</pre>\n"
          },
          "metadata": {}
        },
        {
          "output_type": "display_data",
          "data": {
            "text/plain": "\u001b[1m Total params: \u001b[0m\u001b[38;5;34m959,908\u001b[0m (3.66 MB)\n",
            "text/html": "<pre style=\"white-space:pre;overflow-x:auto;line-height:normal;font-family:Menlo,'DejaVu Sans Mono',consolas,'Courier New',monospace\"><span style=\"font-weight: bold\"> Total params: </span><span style=\"color: #00af00; text-decoration-color: #00af00\">959,908</span> (3.66 MB)\n</pre>\n"
          },
          "metadata": {}
        },
        {
          "output_type": "display_data",
          "data": {
            "text/plain": "\u001b[1m Trainable params: \u001b[0m\u001b[38;5;34m959,908\u001b[0m (3.66 MB)\n",
            "text/html": "<pre style=\"white-space:pre;overflow-x:auto;line-height:normal;font-family:Menlo,'DejaVu Sans Mono',consolas,'Courier New',monospace\"><span style=\"font-weight: bold\"> Trainable params: </span><span style=\"color: #00af00; text-decoration-color: #00af00\">959,908</span> (3.66 MB)\n</pre>\n"
          },
          "metadata": {}
        },
        {
          "output_type": "display_data",
          "data": {
            "text/plain": "\u001b[1m Non-trainable params: \u001b[0m\u001b[38;5;34m0\u001b[0m (0.00 B)\n",
            "text/html": "<pre style=\"white-space:pre;overflow-x:auto;line-height:normal;font-family:Menlo,'DejaVu Sans Mono',consolas,'Courier New',monospace\"><span style=\"font-weight: bold\"> Non-trainable params: </span><span style=\"color: #00af00; text-decoration-color: #00af00\">0</span> (0.00 B)\n</pre>\n"
          },
          "metadata": {}
        }
      ],
      "execution_count": null
    },
    {
      "cell_type": "code",
      "source": [
        "model.fit(x_train, y_train,batch_size=32,epochs=8,validation_data=(x_test, y_test))"
      ],
      "metadata": {
        "trusted": true,
        "execution": {
          "iopub.status.busy": "2025-03-11T23:38:10.852263Z",
          "iopub.execute_input": "2025-03-11T23:38:10.852606Z",
          "iopub.status.idle": "2025-03-11T23:39:18.177428Z",
          "shell.execute_reply.started": "2025-03-11T23:38:10.852573Z",
          "shell.execute_reply": "2025-03-11T23:39:18.176344Z"
        },
        "id": "SQ7br_BAKg2q",
        "outputId": "ef54d089-ed3d-4e0e-c528-caf91e82bad0"
      },
      "outputs": [
        {
          "name": "stdout",
          "text": "Epoch 1/8\n\u001b[1m628/628\u001b[0m \u001b[32m━━━━━━━━━━━━━━━━━━━━\u001b[0m\u001b[37m\u001b[0m \u001b[1m21s\u001b[0m 22ms/step - accuracy: 0.7227 - loss: 0.6779 - precision: 0.7877 - recall: 0.6233 - val_accuracy: 0.8758 - val_loss: 0.3365 - val_precision: 0.8918 - val_recall: 0.8594\nEpoch 2/8\n\u001b[1m628/628\u001b[0m \u001b[32m━━━━━━━━━━━━━━━━━━━━\u001b[0m\u001b[37m\u001b[0m \u001b[1m5s\u001b[0m 9ms/step - accuracy: 0.8808 - loss: 0.3139 - precision: 0.8905 - recall: 0.8705 - val_accuracy: 0.9042 - val_loss: 0.2601 - val_precision: 0.9124 - val_recall: 0.8977\nEpoch 3/8\n\u001b[1m628/628\u001b[0m \u001b[32m━━━━━━━━━━━━━━━━━━━━\u001b[0m\u001b[37m\u001b[0m \u001b[1m5s\u001b[0m 9ms/step - accuracy: 0.9054 - loss: 0.2452 - precision: 0.9104 - recall: 0.8993 - val_accuracy: 0.8882 - val_loss: 0.2841 - val_precision: 0.8943 - val_recall: 0.8819\nEpoch 4/8\n\u001b[1m628/628\u001b[0m \u001b[32m━━━━━━━━━━━━━━━━━━━━\u001b[0m\u001b[37m\u001b[0m \u001b[1m5s\u001b[0m 9ms/step - accuracy: 0.9200 - loss: 0.2052 - precision: 0.9235 - recall: 0.9159 - val_accuracy: 0.9221 - val_loss: 0.2060 - val_precision: 0.9254 - val_recall: 0.9182\nEpoch 5/8\n\u001b[1m628/628\u001b[0m \u001b[32m━━━━━━━━━━━━━━━━━━━━\u001b[0m\u001b[37m\u001b[0m \u001b[1m6s\u001b[0m 9ms/step - accuracy: 0.9361 - loss: 0.1637 - precision: 0.9396 - recall: 0.9334 - val_accuracy: 0.9410 - val_loss: 0.1682 - val_precision: 0.9433 - val_recall: 0.9383\nEpoch 6/8\n\u001b[1m628/628\u001b[0m \u001b[32m━━━━━━━━━━━━━━━━━━━━\u001b[0m\u001b[37m\u001b[0m \u001b[1m5s\u001b[0m 9ms/step - accuracy: 0.9589 - loss: 0.1108 - precision: 0.9611 - recall: 0.9576 - val_accuracy: 0.9422 - val_loss: 0.1710 - val_precision: 0.9443 - val_recall: 0.9412\nEpoch 7/8\n\u001b[1m628/628\u001b[0m \u001b[32m━━━━━━━━━━━━━━━━━━━━\u001b[0m\u001b[37m\u001b[0m \u001b[1m5s\u001b[0m 9ms/step - accuracy: 0.9641 - loss: 0.0946 - precision: 0.9651 - recall: 0.9627 - val_accuracy: 0.9449 - val_loss: 0.1765 - val_precision: 0.9463 - val_recall: 0.9437\nEpoch 8/8\n\u001b[1m628/628\u001b[0m \u001b[32m━━━━━━━━━━━━━━━━━━━━\u001b[0m\u001b[37m\u001b[0m \u001b[1m5s\u001b[0m 9ms/step - accuracy: 0.9749 - loss: 0.0704 - precision: 0.9758 - recall: 0.9742 - val_accuracy: 0.9391 - val_loss: 0.1887 - val_precision: 0.9404 - val_recall: 0.9379\n",
          "output_type": "stream"
        },
        {
          "execution_count": 10,
          "output_type": "execute_result",
          "data": {
            "text/plain": "<keras.src.callbacks.history.History at 0x7ae04c3f39a0>"
          },
          "metadata": {}
        }
      ],
      "execution_count": null
    },
    {
      "cell_type": "code",
      "source": [
        "plt.plot(model.history.history['accuracy'], label = 'train accuracy')\n",
        "plt.plot(model.history.history['val_accuracy'],label = 'test_accuracy')\n",
        "plt.legend()\n",
        "plt.show()\n"
      ],
      "metadata": {
        "trusted": true,
        "execution": {
          "iopub.status.busy": "2025-03-11T23:39:18.178446Z",
          "iopub.execute_input": "2025-03-11T23:39:18.178830Z",
          "iopub.status.idle": "2025-03-11T23:39:18.551237Z",
          "shell.execute_reply.started": "2025-03-11T23:39:18.178787Z",
          "shell.execute_reply": "2025-03-11T23:39:18.550141Z"
        },
        "id": "RgX6njBuKg2s",
        "outputId": "47075b02-d84d-4408-e024-325d3d33c5a0"
      },
      "outputs": [
        {
          "output_type": "display_data",
          "data": {
            "text/plain": "<Figure size 640x480 with 1 Axes>",
            "image/png": "[encoded data removed]"
          },
          "metadata": {}
        }
      ],
      "execution_count": null
    },
    {
      "cell_type": "code",
      "source": [
        "plt.plot(model.history.history['loss'], label = 'train loss')\n",
        "plt.plot(model.history.history['val_loss'],label = 'test_loss')\n",
        "plt.legend()\n",
        "plt.show()"
      ],
      "metadata": {
        "trusted": true,
        "execution": {
          "iopub.status.busy": "2025-03-11T23:39:18.552295Z",
          "iopub.execute_input": "2025-03-11T23:39:18.552593Z",
          "iopub.status.idle": "2025-03-11T23:39:18.745293Z",
          "shell.execute_reply.started": "2025-03-11T23:39:18.552567Z",
          "shell.execute_reply": "2025-03-11T23:39:18.744309Z"
        },
        "id": "JLNvhV0hKg2s",
        "outputId": "ee62e722-69b3-4f6f-a0b0-6d9c06ec3c4d"
      },
      "outputs": [
        {
          "output_type": "display_data",
          "data": {
            "text/plain": "<Figure size 640x480 with 1 Axes>",
            "image/png": "[encoded data removed]"
          },
          "metadata": {}
        }
      ],
      "execution_count": null
    },
    {
      "cell_type": "code",
      "source": [
        "model.save('covid_tb_normal_pne.h5')"
      ],
      "metadata": {
        "trusted": true,
        "execution": {
          "iopub.status.busy": "2025-03-11T23:39:18.746180Z",
          "iopub.execute_input": "2025-03-11T23:39:18.746483Z",
          "iopub.status.idle": "2025-03-11T23:39:18.828327Z",
          "shell.execute_reply.started": "2025-03-11T23:39:18.746455Z",
          "shell.execute_reply": "2025-03-11T23:39:18.827095Z"
        },
        "id": "X-zNSHx-Kg2t"
      },
      "outputs": [],
      "execution_count": null
    },
    {
      "cell_type": "code",
      "source": [
        "results = model.evaluate(x_test, y_test, verbose=1)\n",
        "\n",
        "# Extract loss, accuracy, precision, and recall\n",
        "loss, accuracy, precision, recall = results\n",
        "\n",
        "# Print results\n",
        "print(f\"Loss: {loss:.4f}, Accuracy: {accuracy:.4f}, Precision: {precision:.4f}, Recall: {recall:.4f}\")\n"
      ],
      "metadata": {
        "trusted": true,
        "execution": {
          "iopub.status.busy": "2025-03-11T23:39:18.829440Z",
          "iopub.execute_input": "2025-03-11T23:39:18.829733Z",
          "iopub.status.idle": "2025-03-11T23:39:22.155702Z",
          "shell.execute_reply.started": "2025-03-11T23:39:18.829708Z",
          "shell.execute_reply": "2025-03-11T23:39:22.154848Z"
        },
        "id": "99Im02yoKg2u",
        "outputId": "de54586d-6e15-4635-e975-2483e4a86d28"
      },
      "outputs": [
        {
          "name": "stdout",
          "text": "\u001b[1m210/210\u001b[0m \u001b[32m━━━━━━━━━━━━━━━━━━━━\u001b[0m\u001b[37m\u001b[0m \u001b[1m1s\u001b[0m 4ms/step - accuracy: 0.9356 - loss: 0.1915 - precision: 0.9370 - recall: 0.9346\nLoss: 0.1887, Accuracy: 0.9391, Precision: 0.9404, Recall: 0.9379\n",
          "output_type": "stream"
        }
      ],
      "execution_count": null
    }
  ]
}